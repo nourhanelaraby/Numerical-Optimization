{
 "cells": [
  {
   "cell_type": "code",
   "execution_count": 1,
   "id": "b65a506e",
   "metadata": {},
   "outputs": [],
   "source": [
    "import numpy as np\n",
    "x_points = np.array([1,1,2,3,4,5,6,7,8,9,10,11]) \n",
    "y_points = np.array([1,2,3,1,4,5,6,4,7,10,15,9])"
   ]
  },
  {
   "cell_type": "code",
   "execution_count": 2,
   "id": "b2009b62",
   "metadata": {},
   "outputs": [
    {
     "data": {
      "image/png": "[encoded data removed]",
      "text/plain": [
       "<Figure size 432x288 with 1 Axes>"
      ]
     },
     "metadata": {
      "needs_background": "light"
     },
     "output_type": "display_data"
    }
   ],
   "source": [
    "import matplotlib.pyplot as plt\n",
    "plt.scatter(x_points, y_points, c =\"pink\", \n",
    "            linewidths = 2, \n",
    "            marker =\"s\", \n",
    "            edgecolor =\"green\", \n",
    "            s = 50)\n",
    "plt.show()"
   ]
  },
  {
   "cell_type": "markdown",
   "id": "6bebd184",
   "metadata": {},
   "source": [
    "# Momenum Gradient Descent"
   ]
  },
  {
   "cell_type": "code",
   "execution_count": 3,
   "id": "0dce9d5c",
   "metadata": {},
   "outputs": [],
   "source": [
    "from sklearn.metrics import r2_score\n",
    "def momentumGD(x_points,y_points,epoch,alpha,epsilon):\n",
    "    loss_list=[]\n",
    "    epochs=[]\n",
    "    theta0_list=[]\n",
    "    theta1_list=[]\n",
    "    theta0=0\n",
    "    theta1=0\n",
    "    theta=np.array([0,0])\n",
    "    m=x_points.shape[0]\n",
    "    mat_ones=np.ones(x_points.shape) #(13,)\n",
    "    data=np.stack((mat_ones,x_points),axis=1)\n",
    "    vprev=0\n",
    "    for i in range(epoch): \n",
    "          y_pred=np.dot(data,theta)\n",
    "          z=y_pred-y_points\n",
    "          grad=(1/m)*np.dot(data.T,z)\n",
    "          #print(\"grad\",grad)\n",
    "          vinit=vprev+np.square(grad)\n",
    "         # print(\"vinit\",vinit)\n",
    "          lossfun=(1/(2*m))*(np.sum((y_pred-y_points)**2))\n",
    "          loss_list.append(lossfun)\n",
    "          epochs.append(i)\n",
    "          theta=theta-np.divide(alpha*grad,np.sqrt(vinit)+epsilon)\n",
    "        #  print(\"theta\",theta)\n",
    "          theta0_list.append(theta[0])\n",
    "          theta1_list.append(theta[1])\n",
    "          vprev=vinit\n",
    "          if (np.linalg.norm(grad)<0.001):\n",
    "                break\n",
    "         # break\n",
    "    theta0=theta[0]\n",
    "    theta1=theta[1]\n",
    "    print(\"accuracy=\",r2_score(y_points,y_pred)*100,\"%\")\n",
    "    print(\"theta 0\",theta[0])\n",
    "    print(\"theta 1\",theta[1])\n",
    "    return theta0,theta1,epochs,loss_list,theta0_list,theta1_list"
   ]
  },
  {
   "cell_type": "code",
   "execution_count": 4,
   "id": "c13706da",
   "metadata": {},
   "outputs": [
    {
     "name": "stdout",
     "output_type": "stream",
     "text": [
      "accuracy= 65.30792245416961 %\n",
      "theta 0 0.7067551793026172\n",
      "theta 1 0.7329362304655614\n"
     ]
    }
   ],
   "source": [
    "theta0,theta1,epochs,loss_list,theta0_list,theta1_list=momentumGD(x_points,y_points,7000,0.006,10**-9)"
   ]
  },
  {
   "cell_type": "code",
   "execution_count": 5,
   "id": "2361a913",
   "metadata": {},
   "outputs": [
    {
     "name": "stdout",
     "output_type": "stream",
     "text": [
      "accuracy= 61.44858515409128 %\n",
      "theta 0 0.6792334901119965\n",
      "theta 1 0.7001786571657646\n"
     ]
    }
   ],
   "source": [
    "theta0,theta1,epochs,loss_list,theta0_list,theta1_list=momentumGD(x_points,y_points,6000,0.006,10**-9)"
   ]
  },
  {
   "cell_type": "code",
   "execution_count": 6,
   "id": "f4b4acd1",
   "metadata": {},
   "outputs": [
    {
     "name": "stdout",
     "output_type": "stream",
     "text": [
      "accuracy= 66.01159258344613 %\n",
      "theta 0 0.712219575704454\n",
      "theta 1 0.739677313288379\n"
     ]
    }
   ],
   "source": [
    "theta0,theta1,epochs,loss_list,theta0_list,theta1_list=momentumGD(x_points,y_points,7000,0.0061,10**-9)"
   ]
  },
  {
   "cell_type": "code",
   "execution_count": 7,
   "id": "8df20dc1",
   "metadata": {},
   "outputs": [
    {
     "name": "stdout",
     "output_type": "stream",
     "text": [
      "accuracy= 67.83855474986157 %\n",
      "theta 0 0.7272362720296137\n",
      "theta 1 0.7587745412179325\n"
     ]
    }
   ],
   "source": [
    "theta0,theta1,epochs,loss_list,theta0_list,theta1_list=momentumGD(x_points,y_points,7000,0.0064,10**-9)"
   ]
  },
  {
   "cell_type": "code",
   "execution_count": 8,
   "id": "4301269d",
   "metadata": {},
   "outputs": [
    {
     "name": "stdout",
     "output_type": "stream",
     "text": [
      "accuracy= 70.4406080528457 %\n",
      "theta 0 0.751224297224767\n",
      "theta 1 0.7920781382725071\n"
     ]
    }
   ],
   "source": [
    "theta0,theta1,epochs,loss_list,theta0_list,theta1_list=momentumGD(x_points,y_points,7000,0.007,10**-9)"
   ]
  },
  {
   "cell_type": "code",
   "execution_count": 9,
   "id": "acc40522",
   "metadata": {},
   "outputs": [
    {
     "name": "stdout",
     "output_type": "stream",
     "text": [
      "accuracy= 72.7020427656301 %\n",
      "theta 0 0.7745901740172814\n",
      "theta 1 0.8344296677647516\n"
     ]
    }
   ],
   "source": [
    "theta0,theta1,epochs,loss_list,theta0_list,theta1_list=momentumGD(x_points,y_points,7000,0.008,10**-9)"
   ]
  },
  {
   "cell_type": "code",
   "execution_count": 10,
   "id": "55834d2d",
   "metadata": {},
   "outputs": [
    {
     "name": "stdout",
     "output_type": "stream",
     "text": [
      "accuracy= 73.96615216614113 %\n",
      "theta 0 0.7724769970558624\n",
      "theta 1 0.882143664265054\n"
     ]
    }
   ],
   "source": [
    "theta0,theta1,epochs,loss_list,theta0_list,theta1_list=momentumGD(x_points,y_points,7000,0.01,10**-9)"
   ]
  },
  {
   "cell_type": "code",
   "execution_count": 11,
   "id": "45d1dc36",
   "metadata": {},
   "outputs": [
    {
     "name": "stdout",
     "output_type": "stream",
     "text": [
      "accuracy= 72.22716781034588 %\n",
      "theta 0 0.7691365972335695\n",
      "theta 1 0.8238163483634376\n"
     ]
    }
   ],
   "source": [
    "theta0,theta1,epochs,loss_list,theta0_list,theta1_list=momentumGD(x_points,y_points,500,0.03,10**-9)"
   ]
  },
  {
   "cell_type": "code",
   "execution_count": 12,
   "id": "5cc206aa",
   "metadata": {},
   "outputs": [
    {
     "name": "stdout",
     "output_type": "stream",
     "text": [
      "accuracy= 74.01020742807735 %\n",
      "theta 0 0.7689759940059095\n",
      "theta 1 0.885250820809157\n"
     ]
    }
   ],
   "source": [
    "theta0,theta1,epochs,loss_list,theta0_list,theta1_list=momentumGD(x_points,y_points,500,0.04,10**-9)"
   ]
  },
  {
   "cell_type": "code",
   "execution_count": 13,
   "id": "4b11b3ee",
   "metadata": {},
   "outputs": [
    {
     "name": "stdout",
     "output_type": "stream",
     "text": [
      "accuracy= 74.42818253533507 %\n",
      "theta 0 0.6770677702927619\n",
      "theta 1 0.9141526360387425\n"
     ]
    }
   ],
   "source": [
    "theta0,theta1,epochs,loss_list,theta0_list,theta1_list=momentumGD(x_points,y_points,600,0.05,10**-9)"
   ]
  },
  {
   "cell_type": "code",
   "execution_count": 14,
   "id": "8db0805d",
   "metadata": {},
   "outputs": [
    {
     "name": "stdout",
     "output_type": "stream",
     "text": [
      "accuracy= 74.72257772625802 %\n",
      "theta 0 0.5728673275673709\n",
      "theta 1 0.9294000255635426\n"
     ]
    }
   ],
   "source": [
    "theta0,theta1,epochs,loss_list,theta0_list,theta1_list=momentumGD(x_points,y_points,900,0.05,10**-9)"
   ]
  },
  {
   "cell_type": "code",
   "execution_count": 15,
   "id": "97bcc46e",
   "metadata": {},
   "outputs": [
    {
     "name": "stdout",
     "output_type": "stream",
     "text": [
      "accuracy= 75.33791992450004 %\n",
      "theta 0 0.28592198669038343\n",
      "theta 1 0.9691265672836813\n"
     ]
    }
   ],
   "source": [
    "theta0,theta1,epochs,loss_list,theta0_list,theta1_list=momentumGD(x_points,y_points,2000,0.05,10**-9)"
   ]
  },
  {
   "cell_type": "code",
   "execution_count": 16,
   "id": "eb296e3e",
   "metadata": {},
   "outputs": [
    {
     "name": "stdout",
     "output_type": "stream",
     "text": [
      "accuracy= 75.74337156672037 %\n",
      "theta 0 -0.14619665652139147\n",
      "theta 1 1.0288056346324346\n"
     ]
    }
   ],
   "source": [
    "theta0,theta1,epochs,loss_list,theta0_list,theta1_list=momentumGD(x_points,y_points,7000,0.05,10**-9)"
   ]
  },
  {
   "cell_type": "markdown",
   "id": "3d678666",
   "metadata": {},
   "source": [
    "# rms prop"
   ]
  },
  {
   "cell_type": "code",
   "execution_count": 17,
   "id": "c5fcb7d0",
   "metadata": {},
   "outputs": [],
   "source": [
    "def RMSprop(x_points,y_points,epoch,alpha,beta,epsilon):\n",
    "    loss_list=[]\n",
    "    epochs=[]\n",
    "    theta0_list=[]\n",
    "    theta1_list=[]\n",
    "    theta0=0\n",
    "    theta1=0\n",
    "    theta=np.array([0,0])\n",
    "    m=x_points.shape[0]\n",
    "    mat_ones=np.ones(x_points.shape) #(13,)\n",
    "    data=np.stack((mat_ones,x_points),axis=1)\n",
    "    vprev=0\n",
    "    for i in range(epoch): \n",
    "          y_pred=np.dot(data,theta)\n",
    "          z=y_pred-y_points\n",
    "          grad=(1/m)*np.dot(data.T,z)\n",
    "          #print(\"grad\",grad)\n",
    "        #  vinit=vprev+np.square(grad)\n",
    "          vinit=beta*vprev+(1-beta)*np.square(grad)\n",
    "         # print(\"vinit\",vinit)\n",
    "          lossfun=(1/(2*m))*(np.sum((y_pred-y_points)**2))\n",
    "          loss_list.append(lossfun)\n",
    "          epochs.append(i)\n",
    "          theta=theta-np.divide(alpha*grad,np.sqrt(vinit)+epsilon)\n",
    "        #  print(\"theta\",theta)\n",
    "          theta0_list.append(theta[0])\n",
    "          theta1_list.append(theta[1])\n",
    "          vprev=vinit\n",
    "          if (np.linalg.norm(grad)<0.001):\n",
    "                break\n",
    "         # break\n",
    "    theta0=theta[0]\n",
    "    theta1=theta[1]\n",
    "    print(\"accuracy=\",r2_score(y_points,y_pred)*100,\"%\")\n",
    "    print(\"theta 0\",theta[0])\n",
    "    print(\"theta 1\",theta[1])\n",
    "    return theta0,theta1,epochs,loss_list,theta0_list,theta1_list"
   ]
  },
  {
   "cell_type": "code",
   "execution_count": 18,
   "id": "3664284c",
   "metadata": {},
   "outputs": [
    {
     "name": "stdout",
     "output_type": "stream",
     "text": [
      "accuracy= -188.2697836036656 %\n",
      "theta 0 0.017272308698160474\n",
      "theta 1 0.017275297843389294\n"
     ]
    }
   ],
   "source": [
    "theta0,theta1,epochs,loss_list,theta0_list,theta1_list=RMSprop(x_points,y_points,10,0.001,0.9,10**-9)"
   ]
  },
  {
   "cell_type": "code",
   "execution_count": 19,
   "id": "04b516f0",
   "metadata": {},
   "outputs": [
    {
     "name": "stdout",
     "output_type": "stream",
     "text": [
      "accuracy= -110.97458029622045 %\n",
      "theta 0 0.16690680512641437\n",
      "theta 1 0.16725430470336372\n"
     ]
    }
   ],
   "source": [
    "theta0,theta1,epochs,loss_list,theta0_list,theta1_list=RMSprop(x_points,y_points,10,0.01,0.9,10**-9)"
   ]
  },
  {
   "cell_type": "code",
   "execution_count": 20,
   "id": "7d3938fc",
   "metadata": {},
   "outputs": [
    {
     "name": "stdout",
     "output_type": "stream",
     "text": [
      "accuracy= 73.49882789286872 %\n",
      "theta 0 0.7999826386023577\n",
      "theta 1 0.86267440173985\n"
     ]
    }
   ],
   "source": [
    "theta0,theta1,epochs,loss_list,theta0_list,theta1_list=RMSprop(x_points,y_points,100,0.01,0.9,10**-9)"
   ]
  },
  {
   "cell_type": "code",
   "execution_count": 21,
   "id": "d98e3ece",
   "metadata": {},
   "outputs": [
    {
     "name": "stdout",
     "output_type": "stream",
     "text": [
      "accuracy= 73.57488449197136 %\n",
      "theta 0 0.8011718546667154\n",
      "theta 1 0.8660029502129617\n"
     ]
    }
   ],
   "source": [
    "theta0,theta1,epochs,loss_list,theta0_list,theta1_list=RMSprop(x_points,y_points,100,0.01,0.89,10**-9)"
   ]
  },
  {
   "cell_type": "code",
   "execution_count": 22,
   "id": "d68e3960",
   "metadata": {},
   "outputs": [
    {
     "name": "stdout",
     "output_type": "stream",
     "text": [
      "accuracy= 75.74158672045097 %\n",
      "theta 0 -0.2045985586268756\n",
      "theta 1 1.0425546347784684\n"
     ]
    }
   ],
   "source": [
    "theta0,theta1,epochs,loss_list,theta0_list,theta1_list=RMSprop(x_points,y_points,300,0.01,0.89,10**-9)"
   ]
  },
  {
   "cell_type": "code",
   "execution_count": 23,
   "id": "72343d24",
   "metadata": {},
   "outputs": [
    {
     "name": "stdout",
     "output_type": "stream",
     "text": [
      "accuracy= 75.74155947491195 %\n",
      "theta 0 -0.2150310538299901\n",
      "theta 1 1.0326175144279792\n"
     ]
    }
   ],
   "source": [
    "theta0,theta1,epochs,loss_list,theta0_list,theta1_list=RMSprop(x_points,y_points,400,0.01,0.85,10**-9)"
   ]
  },
  {
   "cell_type": "code",
   "execution_count": 24,
   "id": "37c1dc62",
   "metadata": {},
   "outputs": [
    {
     "name": "stdout",
     "output_type": "stream",
     "text": [
      "accuracy= 75.74155995287491 %\n",
      "theta 0 -0.20503159344675076\n",
      "theta 1 1.042617309506237\n"
     ]
    }
   ],
   "source": [
    "theta0,theta1,epochs,loss_list,theta0_list,theta1_list=RMSprop(x_points,y_points,700,0.01,0.95,10**-9)"
   ]
  },
  {
   "cell_type": "code",
   "execution_count": 25,
   "id": "47dcfd8f",
   "metadata": {},
   "outputs": [
    {
     "name": "stdout",
     "output_type": "stream",
     "text": [
      "accuracy= 75.75018636560738 %\n",
      "theta 0 -0.2071266473404233\n",
      "theta 1 1.0372168438894158\n"
     ]
    }
   ],
   "source": [
    "theta0,theta1,epochs,loss_list,theta0_list,theta1_list=RMSprop(x_points,y_points,1000,0.0099,0.999,10**-9)"
   ]
  },
  {
   "cell_type": "code",
   "execution_count": 26,
   "id": "2f66a591",
   "metadata": {},
   "outputs": [
    {
     "name": "stdout",
     "output_type": "stream",
     "text": [
      "accuracy= 75.75018588852222 %\n",
      "theta 0 -0.20712470953170073\n",
      "theta 1 1.0372168100125756\n"
     ]
    }
   ],
   "source": [
    "theta0,theta1,epochs,loss_list,theta0_list,theta1_list=RMSprop(x_points,y_points,2000,0.02,0.999,10**-8)"
   ]
  },
  {
   "cell_type": "code",
   "execution_count": 27,
   "id": "2c2bf874",
   "metadata": {},
   "outputs": [
    {
     "name": "stdout",
     "output_type": "stream",
     "text": [
      "accuracy= 75.75018587980355 %\n",
      "theta 0 -0.20713270832275948\n",
      "theta 1 1.0372179537552513\n"
     ]
    }
   ],
   "source": [
    "theta0,theta1,epochs,loss_list,theta0_list,theta1_list=RMSprop(x_points,y_points,2000,0.022,0.999,10**-8)"
   ]
  },
  {
   "cell_type": "code",
   "execution_count": 28,
   "id": "49c6946a",
   "metadata": {},
   "outputs": [
    {
     "name": "stdout",
     "output_type": "stream",
     "text": [
      "accuracy= 75.75018661903098 %\n",
      "theta 0 -0.20723265170051983\n",
      "theta 1 1.0372318677761756\n"
     ]
    }
   ],
   "source": [
    "theta0,theta1,epochs,loss_list,theta0_list,theta1_list=RMSprop(x_points,y_points,2000,0.029,0.999,10**-8)"
   ]
  },
  {
   "cell_type": "code",
   "execution_count": 29,
   "id": "d32b3661",
   "metadata": {},
   "outputs": [
    {
     "name": "stdout",
     "output_type": "stream",
     "text": [
      "accuracy= 75.75018604052262 %\n",
      "theta 0 -0.20717977887197803\n",
      "theta 1 1.0372246019657336\n"
     ]
    }
   ],
   "source": [
    "theta0,theta1,epochs,loss_list,theta0_list,theta1_list=RMSprop(x_points,y_points,2000,0.03,0.999,10**-8)"
   ]
  },
  {
   "cell_type": "code",
   "execution_count": 30,
   "id": "8a53e153",
   "metadata": {},
   "outputs": [
    {
     "name": "stdout",
     "output_type": "stream",
     "text": [
      "accuracy= 75.75018662132548 %\n",
      "theta 0 -0.20725785533756513\n",
      "theta 1 1.037235553948775\n"
     ]
    }
   ],
   "source": [
    "theta0,theta1,epochs,loss_list,theta0_list,theta1_list=RMSprop(x_points,y_points,2000,0.039,0.999,10**-8)"
   ]
  },
  {
   "cell_type": "code",
   "execution_count": 31,
   "id": "2198b276",
   "metadata": {},
   "outputs": [
    {
     "name": "stdout",
     "output_type": "stream",
     "text": [
      "accuracy= 75.75018629233743 %\n",
      "theta 0 -0.20721867628940813\n",
      "theta 1 1.0372305477799544\n"
     ]
    }
   ],
   "source": [
    "theta0,theta1,epochs,loss_list,theta0_list,theta1_list=RMSprop(x_points,y_points,2000,0.1,0.999,10**-8)"
   ]
  },
  {
   "cell_type": "code",
   "execution_count": null,
   "id": "3512ffa3",
   "metadata": {},
   "outputs": [],
   "source": []
  },
  {
   "cell_type": "markdown",
   "id": "59754b09",
   "metadata": {},
   "source": [
    "# Adam Optimizer"
   ]
  },
  {
   "cell_type": "code",
   "execution_count": 32,
   "id": "a08a2ab5",
   "metadata": {},
   "outputs": [],
   "source": [
    "def adam(x_points,y_points,epoch,alpha,beta1,beta2,epsilon):\n",
    "    loss_list=[]\n",
    "    epochs=[]\n",
    "    theta0_list=[]\n",
    "    theta1_list=[]\n",
    "    theta0=0\n",
    "    theta1=0\n",
    "    theta=np.array([0,0])\n",
    "    m=x_points.shape[0]\n",
    "    mat_ones=np.ones(x_points.shape) #(13,)\n",
    "    data=np.stack((mat_ones,x_points),axis=1)\n",
    "    vinit=0\n",
    "    minit=0\n",
    "    for i in range(epoch): \n",
    "          y_pred=np.dot(data,theta)\n",
    "          z=y_pred-y_points\n",
    "          grad=(1/m)*np.dot(data.T,z)\n",
    "          #print(\"grad\",grad)\n",
    "        #  vinit=vprev+np.square(grad)\n",
    "         # minit=beta1*mprev+(1-beta1)*grad\n",
    "          minit=beta1*minit+(1-beta1)*grad\n",
    "        #  vinit=beta*vprev+(1-beta)*np.square(grad)\n",
    "          vinit=beta2*vinit+(1-beta2)*np.square(grad)\n",
    "         # print(\"vinit\",vinit)\n",
    "          lossfun=(1/(2*m))*(np.sum((y_pred-y_points)**2))\n",
    "          loss_list.append(lossfun)\n",
    "          epochs.append(i)\n",
    "          minit=np.divide(minit,1-(beta1**(i+1)))\n",
    "          vinit=np.divide(vinit,1-(beta2**(i+1)))\n",
    "          theta=theta-alpha*np.divide(minit,np.sqrt(vinit)+epsilon)\n",
    "        #  print(\"theta\",theta)\n",
    "          theta0_list.append(theta[0])\n",
    "          theta1_list.append(theta[1])\n",
    "         # vprev=vupdated\n",
    "          #mprev=mupdated\n",
    "          if (np.linalg.norm(grad)<0.001):\n",
    "                break\n",
    "         # break\n",
    "    theta0=theta[0]\n",
    "    theta1=theta[1]\n",
    "    print(\"accuracy=\",r2_score(y_points,y_pred)*100,\"%\")\n",
    "    print(\"theta 0\",theta[0])\n",
    "    print(\"theta 1\",theta[1])\n",
    "    return theta0,theta1,epochs,loss_list,theta0_list,theta1_list"
   ]
  },
  {
   "cell_type": "code",
   "execution_count": 33,
   "id": "99ad55f7",
   "metadata": {},
   "outputs": [
    {
     "name": "stdout",
     "output_type": "stream",
     "text": [
      "accuracy= -183454.99369087792 %\n",
      "theta 0 26.222858279931597\n",
      "theta 1 26.29061949726999\n"
     ]
    }
   ],
   "source": [
    "theta0,theta1,epochs,loss_list,theta0_list,theta1_list=adam(x_points,y_points,20,0.04,0.9,0.9,0.0001)"
   ]
  },
  {
   "cell_type": "code",
   "execution_count": 34,
   "id": "e5966642",
   "metadata": {},
   "outputs": [
    {
     "name": "stdout",
     "output_type": "stream",
     "text": [
      "accuracy= 36.727120668680925 %\n",
      "theta 0 1.2673515297594462\n",
      "theta 1 1.267360377118516\n"
     ]
    }
   ],
   "source": [
    "theta0,theta1,epochs,loss_list,theta0_list,theta1_list=adam(x_points,y_points,30,0.001,0.9,0.9,0.0001)"
   ]
  },
  {
   "cell_type": "code",
   "execution_count": 35,
   "id": "12ad9fcd",
   "metadata": {},
   "outputs": [
    {
     "name": "stdout",
     "output_type": "stream",
     "text": [
      "accuracy= 36.72709147958169 %\n",
      "theta 0 1.2673520672004355\n",
      "theta 1 1.2673604474242959\n"
     ]
    }
   ],
   "source": [
    "theta0,theta1,epochs,loss_list,theta0_list,theta1_list=adam(x_points,y_points,30,0.001,0.9,0.9,1e-8)"
   ]
  },
  {
   "cell_type": "code",
   "execution_count": 36,
   "id": "717b86ae",
   "metadata": {},
   "outputs": [
    {
     "name": "stdout",
     "output_type": "stream",
     "text": [
      "accuracy= 36.72709147695442 %\n",
      "theta 0 1.2673520672488103\n",
      "theta 1 1.267360447430624\n"
     ]
    }
   ],
   "source": [
    "theta0,theta1,epochs,loss_list,theta0_list,theta1_list=adam(x_points,y_points,30,0.001,0.9,0.9,1e-9)"
   ]
  },
  {
   "cell_type": "code",
   "execution_count": 37,
   "id": "97ee4c15",
   "metadata": {},
   "outputs": [
    {
     "name": "stdout",
     "output_type": "stream",
     "text": [
      "accuracy= -124.05834438931333 %\n",
      "theta 0 0.1301912605659928\n",
      "theta 1 0.13021774433450636\n"
     ]
    }
   ],
   "source": [
    "theta0,theta1,epochs,loss_list,theta0_list,theta1_list=adam(x_points,y_points,30,0.05,0.9,0.99,1e-9)"
   ]
  },
  {
   "cell_type": "code",
   "execution_count": 38,
   "id": "9a48c6de",
   "metadata": {},
   "outputs": [
    {
     "name": "stdout",
     "output_type": "stream",
     "text": [
      "accuracy= -62.27043245235897 %\n",
      "theta 0 0.25930336701175755\n",
      "theta 1 0.2594099082409686\n"
     ]
    }
   ],
   "source": [
    "theta0,theta1,epochs,loss_list,theta0_list,theta1_list=adam(x_points,y_points,30,0.1,0.9,0.99,1e-9)"
   ]
  },
  {
   "cell_type": "code",
   "execution_count": 39,
   "id": "651bd0e3",
   "metadata": {},
   "outputs": [
    {
     "name": "stdout",
     "output_type": "stream",
     "text": [
      "accuracy= 56.86982667341623 %\n",
      "theta 0 0.6651113556784226\n",
      "theta 1 0.6658442390915625\n"
     ]
    }
   ],
   "source": [
    "theta0,theta1,epochs,loss_list,theta0_list,theta1_list=adam(x_points,y_points,30,0.26,0.9,0.99,1e-9)"
   ]
  },
  {
   "cell_type": "code",
   "execution_count": 40,
   "id": "b64f16e7",
   "metadata": {},
   "outputs": [
    {
     "name": "stdout",
     "output_type": "stream",
     "text": [
      "accuracy= 66.37916398153155 %\n",
      "theta 0 0.7399384821836741\n",
      "theta 1 0.7408531065176831\n"
     ]
    }
   ],
   "source": [
    "theta0,theta1,epochs,loss_list,theta0_list,theta1_list=adam(x_points,y_points,30,0.29,0.9,0.99,1e-9)"
   ]
  },
  {
   "cell_type": "code",
   "execution_count": 41,
   "id": "a9be7ddd",
   "metadata": {},
   "outputs": [
    {
     "name": "stdout",
     "output_type": "stream",
     "text": [
      "accuracy= 68.46756990785629 %\n",
      "theta 0 0.7623081835844755\n",
      "theta 1 0.7632813630810811\n"
     ]
    }
   ],
   "source": [
    "theta0,theta1,epochs,loss_list,theta0_list,theta1_list=adam(x_points,y_points,30,0.299,0.9,0.99,1e-9)"
   ]
  },
  {
   "cell_type": "code",
   "execution_count": 42,
   "id": "d962cc60",
   "metadata": {},
   "outputs": [
    {
     "name": "stdout",
     "output_type": "stream",
     "text": [
      "accuracy= 68.46756991658674 %\n",
      "theta 0 0.762308183634566\n",
      "theta 1 0.7632813631313116\n"
     ]
    }
   ],
   "source": [
    "theta0,theta1,epochs,loss_list,theta0_list,theta1_list=adam(x_points,y_points,50,0.299,0.9,0.99,1e-9)"
   ]
  },
  {
   "cell_type": "code",
   "execution_count": 43,
   "id": "1f6448a6",
   "metadata": {},
   "outputs": [
    {
     "name": "stdout",
     "output_type": "stream",
     "text": [
      "accuracy= -15845912.034803443 %\n",
      "theta 0 203.82728557406344\n",
      "theta 1 216.72670834750684\n"
     ]
    }
   ],
   "source": [
    "theta0,theta1,epochs,loss_list,theta0_list,theta1_list=adam(x_points,y_points,50,0.299,0.9,0.8,1e-9)"
   ]
  },
  {
   "cell_type": "code",
   "execution_count": 44,
   "id": "f68007c2",
   "metadata": {},
   "outputs": [
    {
     "name": "stdout",
     "output_type": "stream",
     "text": [
      "accuracy= -13737010.207443848 %\n",
      "theta 0 192.92036997701706\n",
      "theta 1 201.52235989872187\n"
     ]
    }
   ],
   "source": [
    "theta0,theta1,epochs,loss_list,theta0_list,theta1_list=adam(x_points,y_points,50,0.299,0.9,0.9,1e-8)"
   ]
  },
  {
   "cell_type": "code",
   "execution_count": 45,
   "id": "c800e84a",
   "metadata": {},
   "outputs": [
    {
     "name": "stdout",
     "output_type": "stream",
     "text": [
      "accuracy= -13776539.6148337 %\n",
      "theta 0 193.18482722053156\n",
      "theta 1 201.81171388894816\n"
     ]
    }
   ],
   "source": [
    "theta0,theta1,epochs,loss_list,theta0_list,theta1_list=adam(x_points,y_points,50,0.3,0.9,0.9,1e-8)"
   ]
  },
  {
   "cell_type": "code",
   "execution_count": 46,
   "id": "7720bc77",
   "metadata": {},
   "outputs": [
    {
     "name": "stdout",
     "output_type": "stream",
     "text": [
      "accuracy= 66.37916399155235 %\n",
      "theta 0 0.7399384822323393\n",
      "theta 1 0.7408531065664801\n"
     ]
    }
   ],
   "source": [
    "theta0,theta1,epochs,loss_list,theta0_list,theta1_list=adam(x_points,y_points,50,0.29,0.9,0.99,1e-9)"
   ]
  },
  {
   "cell_type": "code",
   "execution_count": null,
   "id": "b4da216f",
   "metadata": {},
   "outputs": [],
   "source": []
  }
 ],
 "metadata": {
  "kernelspec": {
   "display_name": "Python 3",
   "language": "python",
   "name": "python3"
  },
  "language_info": {
   "codemirror_mode": {
    "name": "ipython",
    "version": 3
   },
   "file_extension": ".py",
   "mimetype": "text/x-python",
   "name": "python",
   "nbconvert_exporter": "python",
   "pygments_lexer": "ipython3",
   "version": "3.7.9"
  },
  "toc": {
   "base_numbering": 1,
   "nav_menu": {},
   "number_sections": true,
   "sideBar": true,
   "skip_h1_title": false,
   "title_cell": "Table of Contents",
   "title_sidebar": "Contents",
   "toc_cell": false,
   "toc_position": {},
   "toc_section_display": true,
   "toc_window_display": false
  }
 },
 "nbformat": 4,
 "nbformat_minor": 5
}
