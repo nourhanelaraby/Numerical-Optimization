{
 "cells": [
  {
   "cell_type": "markdown",
   "id": "4e457390",
   "metadata": {},
   "source": [
    "# Importing libraries"
   ]
  },
  {
   "cell_type": "code",
   "execution_count": 1,
   "id": "e27dca4c",
   "metadata": {},
   "outputs": [],
   "source": [
    "import numpy as np\n",
    "import matplotlib.pyplot as plt\n",
    "import pandas as pd\n",
    "from sklearn.metrics import r2_score\n",
    "%matplotlib inline"
   ]
  },
  {
   "cell_type": "code",
   "execution_count": 2,
   "id": "e8bb032a",
   "metadata": {},
   "outputs": [
    {
     "data": {
      "text/plain": [
       "(13, 2)"
      ]
     },
     "execution_count": 2,
     "metadata": {},
     "output_type": "execute_result"
    }
   ],
   "source": [
    "data=np.genfromtxt('RegData.csv',delimiter=',')\n",
    "data.shape"
   ]
  },
  {
   "cell_type": "code",
   "execution_count": 3,
   "id": "1a71578d",
   "metadata": {},
   "outputs": [
    {
     "data": {
      "text/plain": [
       "array([2.9000001 , 6.69999981, 4.9000001 , 7.9000001 , 9.80000019,\n",
       "       6.9000001 , 6.0999999 , 6.19999981, 6.        , 5.0999999 ,\n",
       "       4.69999981, 4.4000001 , 5.80000019])"
      ]
     },
     "execution_count": 3,
     "metadata": {},
     "output_type": "execute_result"
    }
   ],
   "source": [
    "x=data[:,0]\n",
    "x"
   ]
  },
  {
   "cell_type": "code",
   "execution_count": 4,
   "id": "0a4d9408",
   "metadata": {},
   "outputs": [
    {
     "data": {
      "text/plain": [
       "(13,)"
      ]
     },
     "execution_count": 4,
     "metadata": {},
     "output_type": "execute_result"
    }
   ],
   "source": [
    "x.shape"
   ]
  },
  {
   "cell_type": "code",
   "execution_count": 5,
   "id": "9d0092a3",
   "metadata": {},
   "outputs": [
    {
     "data": {
      "text/plain": [
       "array([4.        , 7.4000001 , 5.        , 7.19999981, 7.9000001 ,\n",
       "       6.0999999 , 6.        , 5.80000019, 5.19999981, 4.19999981,\n",
       "       4.        , 4.4000001 , 5.19999981])"
      ]
     },
     "execution_count": 5,
     "metadata": {},
     "output_type": "execute_result"
    }
   ],
   "source": [
    "y=data[:,1]\n",
    "y"
   ]
  },
  {
   "cell_type": "code",
   "execution_count": 6,
   "id": "686a066d",
   "metadata": {},
   "outputs": [
    {
     "data": {
      "text/plain": [
       "(13,)"
      ]
     },
     "execution_count": 6,
     "metadata": {},
     "output_type": "execute_result"
    }
   ],
   "source": [
    "y.shape"
   ]
  },
  {
   "cell_type": "markdown",
   "id": "fbc1bedc",
   "metadata": {},
   "source": [
    "# Explore data"
   ]
  },
  {
   "cell_type": "code",
   "execution_count": 7,
   "id": "c6cfdeb5",
   "metadata": {},
   "outputs": [
    {
     "data": {
      "image/png": "[encoded data removed]",
      "text/plain": [
       "<Figure size 432x288 with 1 Axes>"
      ]
     },
     "metadata": {
      "needs_background": "light"
     },
     "output_type": "display_data"
    }
   ],
   "source": [
    "import seaborn as sns\n",
    "sns.scatterplot(x=x,y=y)\n",
    "plt.show()"
   ]
  },
  {
   "cell_type": "code",
   "execution_count": 8,
   "id": "106be384",
   "metadata": {},
   "outputs": [
    {
     "data": {
      "image/png": "[encoded data removed]",
      "text/plain": [
       "<Figure size 432x288 with 1 Axes>"
      ]
     },
     "metadata": {
      "needs_background": "light"
     },
     "output_type": "display_data"
    }
   ],
   "source": [
    "plt.scatter(x, y, c =\"pink\", \n",
    "            linewidths = 2, \n",
    "            marker =\"s\", \n",
    "            edgecolor =\"green\", \n",
    "            s = 50)\n",
    "plt.show()"
   ]
  },
  {
   "cell_type": "code",
   "execution_count": 9,
   "id": "7a5aa54c",
   "metadata": {},
   "outputs": [
    {
     "data": {
      "text/html": [
       "<div>\n",
       "<style scoped>\n",
       "    .dataframe tbody tr th:only-of-type {\n",
       "        vertical-align: middle;\n",
       "    }\n",
       "\n",
       "    .dataframe tbody tr th {\n",
       "        vertical-align: top;\n",
       "    }\n",
       "\n",
       "    .dataframe thead th {\n",
       "        text-align: right;\n",
       "    }\n",
       "</style>\n",
       "<table border=\"1\" class=\"dataframe\">\n",
       "  <thead>\n",
       "    <tr style=\"text-align: right;\">\n",
       "      <th></th>\n",
       "      <th>0</th>\n",
       "    </tr>\n",
       "  </thead>\n",
       "  <tbody>\n",
       "    <tr>\n",
       "      <th>0</th>\n",
       "      <td>2.9</td>\n",
       "    </tr>\n",
       "    <tr>\n",
       "      <th>1</th>\n",
       "      <td>6.7</td>\n",
       "    </tr>\n",
       "    <tr>\n",
       "      <th>2</th>\n",
       "      <td>4.9</td>\n",
       "    </tr>\n",
       "    <tr>\n",
       "      <th>3</th>\n",
       "      <td>7.9</td>\n",
       "    </tr>\n",
       "    <tr>\n",
       "      <th>4</th>\n",
       "      <td>9.8</td>\n",
       "    </tr>\n",
       "    <tr>\n",
       "      <th>5</th>\n",
       "      <td>6.9</td>\n",
       "    </tr>\n",
       "    <tr>\n",
       "      <th>6</th>\n",
       "      <td>6.1</td>\n",
       "    </tr>\n",
       "    <tr>\n",
       "      <th>7</th>\n",
       "      <td>6.2</td>\n",
       "    </tr>\n",
       "    <tr>\n",
       "      <th>8</th>\n",
       "      <td>6.0</td>\n",
       "    </tr>\n",
       "    <tr>\n",
       "      <th>9</th>\n",
       "      <td>5.1</td>\n",
       "    </tr>\n",
       "    <tr>\n",
       "      <th>10</th>\n",
       "      <td>4.7</td>\n",
       "    </tr>\n",
       "    <tr>\n",
       "      <th>11</th>\n",
       "      <td>4.4</td>\n",
       "    </tr>\n",
       "    <tr>\n",
       "      <th>12</th>\n",
       "      <td>5.8</td>\n",
       "    </tr>\n",
       "  </tbody>\n",
       "</table>\n",
       "</div>"
      ],
      "text/plain": [
       "      0\n",
       "0   2.9\n",
       "1   6.7\n",
       "2   4.9\n",
       "3   7.9\n",
       "4   9.8\n",
       "5   6.9\n",
       "6   6.1\n",
       "7   6.2\n",
       "8   6.0\n",
       "9   5.1\n",
       "10  4.7\n",
       "11  4.4\n",
       "12  5.8"
      ]
     },
     "execution_count": 9,
     "metadata": {},
     "output_type": "execute_result"
    }
   ],
   "source": [
    "x_df=pd.DataFrame(x)\n",
    "x_df"
   ]
  },
  {
   "cell_type": "code",
   "execution_count": 10,
   "id": "eccb7931",
   "metadata": {},
   "outputs": [
    {
     "data": {
      "text/html": [
       "<div>\n",
       "<style scoped>\n",
       "    .dataframe tbody tr th:only-of-type {\n",
       "        vertical-align: middle;\n",
       "    }\n",
       "\n",
       "    .dataframe tbody tr th {\n",
       "        vertical-align: top;\n",
       "    }\n",
       "\n",
       "    .dataframe thead th {\n",
       "        text-align: right;\n",
       "    }\n",
       "</style>\n",
       "<table border=\"1\" class=\"dataframe\">\n",
       "  <thead>\n",
       "    <tr style=\"text-align: right;\">\n",
       "      <th></th>\n",
       "      <th>0</th>\n",
       "    </tr>\n",
       "  </thead>\n",
       "  <tbody>\n",
       "    <tr>\n",
       "      <th>0</th>\n",
       "      <td>4.0</td>\n",
       "    </tr>\n",
       "    <tr>\n",
       "      <th>1</th>\n",
       "      <td>7.4</td>\n",
       "    </tr>\n",
       "    <tr>\n",
       "      <th>2</th>\n",
       "      <td>5.0</td>\n",
       "    </tr>\n",
       "    <tr>\n",
       "      <th>3</th>\n",
       "      <td>7.2</td>\n",
       "    </tr>\n",
       "    <tr>\n",
       "      <th>4</th>\n",
       "      <td>7.9</td>\n",
       "    </tr>\n",
       "    <tr>\n",
       "      <th>5</th>\n",
       "      <td>6.1</td>\n",
       "    </tr>\n",
       "    <tr>\n",
       "      <th>6</th>\n",
       "      <td>6.0</td>\n",
       "    </tr>\n",
       "    <tr>\n",
       "      <th>7</th>\n",
       "      <td>5.8</td>\n",
       "    </tr>\n",
       "    <tr>\n",
       "      <th>8</th>\n",
       "      <td>5.2</td>\n",
       "    </tr>\n",
       "    <tr>\n",
       "      <th>9</th>\n",
       "      <td>4.2</td>\n",
       "    </tr>\n",
       "    <tr>\n",
       "      <th>10</th>\n",
       "      <td>4.0</td>\n",
       "    </tr>\n",
       "    <tr>\n",
       "      <th>11</th>\n",
       "      <td>4.4</td>\n",
       "    </tr>\n",
       "    <tr>\n",
       "      <th>12</th>\n",
       "      <td>5.2</td>\n",
       "    </tr>\n",
       "  </tbody>\n",
       "</table>\n",
       "</div>"
      ],
      "text/plain": [
       "      0\n",
       "0   4.0\n",
       "1   7.4\n",
       "2   5.0\n",
       "3   7.2\n",
       "4   7.9\n",
       "5   6.1\n",
       "6   6.0\n",
       "7   5.8\n",
       "8   5.2\n",
       "9   4.2\n",
       "10  4.0\n",
       "11  4.4\n",
       "12  5.2"
      ]
     },
     "execution_count": 10,
     "metadata": {},
     "output_type": "execute_result"
    }
   ],
   "source": [
    "y_df=pd.DataFrame(y)\n",
    "y_df"
   ]
  },
  {
   "cell_type": "code",
   "execution_count": 11,
   "id": "b722ff06",
   "metadata": {},
   "outputs": [
    {
     "name": "stdout",
     "output_type": "stream",
     "text": [
      "<class 'pandas.core.frame.DataFrame'>\n",
      "RangeIndex: 13 entries, 0 to 12\n",
      "Data columns (total 1 columns):\n",
      " #   Column  Non-Null Count  Dtype  \n",
      "---  ------  --------------  -----  \n",
      " 0   0       13 non-null     float64\n",
      "dtypes: float64(1)\n",
      "memory usage: 232.0 bytes\n"
     ]
    }
   ],
   "source": [
    "x_df.info()"
   ]
  },
  {
   "cell_type": "code",
   "execution_count": 12,
   "id": "5999df3c",
   "metadata": {},
   "outputs": [
    {
     "data": {
      "text/html": [
       "<div>\n",
       "<style scoped>\n",
       "    .dataframe tbody tr th:only-of-type {\n",
       "        vertical-align: middle;\n",
       "    }\n",
       "\n",
       "    .dataframe tbody tr th {\n",
       "        vertical-align: top;\n",
       "    }\n",
       "\n",
       "    .dataframe thead th {\n",
       "        text-align: right;\n",
       "    }\n",
       "</style>\n",
       "<table border=\"1\" class=\"dataframe\">\n",
       "  <thead>\n",
       "    <tr style=\"text-align: right;\">\n",
       "      <th></th>\n",
       "      <th>0</th>\n",
       "    </tr>\n",
       "  </thead>\n",
       "  <tbody>\n",
       "    <tr>\n",
       "      <th>count</th>\n",
       "      <td>13.000000</td>\n",
       "    </tr>\n",
       "    <tr>\n",
       "      <th>mean</th>\n",
       "      <td>5.953846</td>\n",
       "    </tr>\n",
       "    <tr>\n",
       "      <th>std</th>\n",
       "      <td>1.714942</td>\n",
       "    </tr>\n",
       "    <tr>\n",
       "      <th>min</th>\n",
       "      <td>2.900000</td>\n",
       "    </tr>\n",
       "    <tr>\n",
       "      <th>25%</th>\n",
       "      <td>4.900000</td>\n",
       "    </tr>\n",
       "    <tr>\n",
       "      <th>50%</th>\n",
       "      <td>6.000000</td>\n",
       "    </tr>\n",
       "    <tr>\n",
       "      <th>75%</th>\n",
       "      <td>6.700000</td>\n",
       "    </tr>\n",
       "    <tr>\n",
       "      <th>max</th>\n",
       "      <td>9.800000</td>\n",
       "    </tr>\n",
       "  </tbody>\n",
       "</table>\n",
       "</div>"
      ],
      "text/plain": [
       "               0\n",
       "count  13.000000\n",
       "mean    5.953846\n",
       "std     1.714942\n",
       "min     2.900000\n",
       "25%     4.900000\n",
       "50%     6.000000\n",
       "75%     6.700000\n",
       "max     9.800000"
      ]
     },
     "execution_count": 12,
     "metadata": {},
     "output_type": "execute_result"
    }
   ],
   "source": [
    "x_df.describe()"
   ]
  },
  {
   "cell_type": "code",
   "execution_count": 13,
   "id": "05c70957",
   "metadata": {},
   "outputs": [
    {
     "name": "stdout",
     "output_type": "stream",
     "text": [
      "<class 'pandas.core.frame.DataFrame'>\n",
      "RangeIndex: 13 entries, 0 to 12\n",
      "Data columns (total 1 columns):\n",
      " #   Column  Non-Null Count  Dtype  \n",
      "---  ------  --------------  -----  \n",
      " 0   0       13 non-null     float64\n",
      "dtypes: float64(1)\n",
      "memory usage: 232.0 bytes\n"
     ]
    }
   ],
   "source": [
    "y_df.info()"
   ]
  },
  {
   "cell_type": "code",
   "execution_count": 14,
   "id": "ac5dff2e",
   "metadata": {},
   "outputs": [
    {
     "data": {
      "text/html": [
       "<div>\n",
       "<style scoped>\n",
       "    .dataframe tbody tr th:only-of-type {\n",
       "        vertical-align: middle;\n",
       "    }\n",
       "\n",
       "    .dataframe tbody tr th {\n",
       "        vertical-align: top;\n",
       "    }\n",
       "\n",
       "    .dataframe thead th {\n",
       "        text-align: right;\n",
       "    }\n",
       "</style>\n",
       "<table border=\"1\" class=\"dataframe\">\n",
       "  <thead>\n",
       "    <tr style=\"text-align: right;\">\n",
       "      <th></th>\n",
       "      <th>0</th>\n",
       "    </tr>\n",
       "  </thead>\n",
       "  <tbody>\n",
       "    <tr>\n",
       "      <th>count</th>\n",
       "      <td>13.000000</td>\n",
       "    </tr>\n",
       "    <tr>\n",
       "      <th>mean</th>\n",
       "      <td>5.569231</td>\n",
       "    </tr>\n",
       "    <tr>\n",
       "      <th>std</th>\n",
       "      <td>1.314271</td>\n",
       "    </tr>\n",
       "    <tr>\n",
       "      <th>min</th>\n",
       "      <td>4.000000</td>\n",
       "    </tr>\n",
       "    <tr>\n",
       "      <th>25%</th>\n",
       "      <td>4.400000</td>\n",
       "    </tr>\n",
       "    <tr>\n",
       "      <th>50%</th>\n",
       "      <td>5.200000</td>\n",
       "    </tr>\n",
       "    <tr>\n",
       "      <th>75%</th>\n",
       "      <td>6.100000</td>\n",
       "    </tr>\n",
       "    <tr>\n",
       "      <th>max</th>\n",
       "      <td>7.900000</td>\n",
       "    </tr>\n",
       "  </tbody>\n",
       "</table>\n",
       "</div>"
      ],
      "text/plain": [
       "               0\n",
       "count  13.000000\n",
       "mean    5.569231\n",
       "std     1.314271\n",
       "min     4.000000\n",
       "25%     4.400000\n",
       "50%     5.200000\n",
       "75%     6.100000\n",
       "max     7.900000"
      ]
     },
     "execution_count": 14,
     "metadata": {},
     "output_type": "execute_result"
    }
   ],
   "source": [
    "y_df.describe()"
   ]
  },
  {
   "cell_type": "markdown",
   "id": "250d3c6b",
   "metadata": {},
   "source": [
    "# Gradient Descent"
   ]
  },
  {
   "cell_type": "code",
   "execution_count": 17,
   "id": "c5453a8c",
   "metadata": {},
   "outputs": [],
   "source": [
    "def GDnonvect(x_points,y_points,epoch,alpha):\n",
    "    loss_list=[]\n",
    "    epochs=[]\n",
    "    theta0_list=[]\n",
    "    theta1_list=[]\n",
    "    theta0=0\n",
    "    theta1=0\n",
    "    m=x_points.shape[0]\n",
    "    for i in range(epoch):\n",
    "        y_pred=theta0+theta1*x_points\n",
    "        lossfun=(1/(2*m))*(np.sum((y_pred-y_points)**2))\n",
    "        loss_list.append(lossfun)\n",
    "        epochs.append(i)\n",
    "        theta0=theta0-alpha*(1/m)*np.sum(y_pred-y_points)\n",
    "        theta1=theta1-alpha*(1/m)*np.sum((y_pred-y_points)*x_points)\n",
    "        theta0_list.append(theta0)\n",
    "        theta1_list.append(theta1)\n",
    "        if i>0:\n",
    "            if (np.abs(loss_list[-1]-loss_list[-2])<0.001):\n",
    "                break\n",
    "    y_pred=y_pred=theta0+theta1*x_points\n",
    "    print(\"accuracy=\",r2_score(y_points,y_pred)*100,\"%\")\n",
    "    print(\"theta 0\",theta0)\n",
    "    print(\"theta 1\",theta1)\n",
    "    return theta0,theta1,epochs,loss_list,theta0_list,theta1_list,y_pred"
   ]
  },
  {
   "cell_type": "code",
   "execution_count": 19,
   "id": "26981420",
   "metadata": {},
   "outputs": [
    {
     "name": "stdout",
     "output_type": "stream",
     "text": [
      "accuracy= 74.77103397023286 %\n",
      "theta 0 0.1505366994471901\n",
      "theta 1 0.892751517504432\n"
     ]
    }
   ],
   "source": [
    "theta0,theta1,epochs,loss_list,theta0_list,theta1_list,y_pred=GDnonvect(x,y,20,0.01)"
   ]
  },
  {
   "cell_type": "code",
   "execution_count": 21,
   "id": "68c954e9",
   "metadata": {},
   "outputs": [],
   "source": [
    "def plot(x_points,y_points,epochs,theta0_list,theta1_list,loss_list):\n",
    "    fig, ax = plt.subplots(2,2)\n",
    "    y_pred=theta0_list[-1]+theta1_list[-1]*x_points\n",
    "    ax[0,0].plot(x_points,y_points,'*')\n",
    "    ax[0,0].plot(x_points, y_pred)\n",
    "    ax[0,1].plot(epochs,loss_list)\n",
    "    ax[1,0].plot(theta0_list,loss_list)\n",
    "    ax[1,1].plot(theta1_list,loss_list)"
   ]
  },
  {
   "cell_type": "code",
   "execution_count": 22,
   "id": "80a297b2",
   "metadata": {},
   "outputs": [
    {
     "data": {
      "image/png": "[encoded data removed]",
      "text/plain": [
       "<Figure size 432x288 with 4 Axes>"
      ]
     },
     "metadata": {
      "needs_background": "light"
     },
     "output_type": "display_data"
    }
   ],
   "source": [
    "plot(x,y,epochs,theta0_list,theta1_list,loss_list)"
   ]
  },
  {
   "cell_type": "code",
   "execution_count": 26,
   "id": "f812459b",
   "metadata": {},
   "outputs": [],
   "source": [
    "def GD(x_points,y_points,epoch,alpha):\n",
    "    loss_list=[]\n",
    "    epochs=[]\n",
    "    theta0_list=[]\n",
    "    theta1_list=[]\n",
    "    theta0=0\n",
    "    theta1=0\n",
    "    theta=np.array([0,0])\n",
    "    m=x_points.shape[0]\n",
    "    mat_ones=np.ones(x_points.shape) #(13,)\n",
    "    data=np.stack((mat_ones,x_points),axis=1)\n",
    "    for i in range(epoch): \n",
    "          y_pred=np.dot(data,theta)\n",
    "          z=y_pred-y_points\n",
    "          grad=(1/m)*np.dot(data.T,z)\n",
    "        # y_pred=np.dot(data,theta)\n",
    "          lossfun=(1/(2*m))*(np.sum((y_pred-y_points)**2))\n",
    "          loss_list.append(lossfun)\n",
    "          epochs.append(i)\n",
    "          theta=theta-alpha*grad\n",
    "          theta0_list.append(theta[0])\n",
    "          theta1_list.append(theta[1])\n",
    "          if i>0:\n",
    "            if (np.linalg.norm(grad)<0.001) or (np.abs(loss_list[-1]-loss_list[-2])<0.001):\n",
    "                break\n",
    "    theta0=theta[0]\n",
    "    theta1=theta[1]\n",
    "    print(\"accuracy=\",r2_score(y_points,y_pred)*100,\"%\")\n",
    "    print(\"theta 0\",theta[0])\n",
    "    print(\"theta 1\",theta[1])\n",
    "    return theta0,theta1,epochs,loss_list,theta0_list,theta1_list,y_pred"
   ]
  },
  {
   "cell_type": "code",
   "execution_count": 27,
   "id": "c06b7f22",
   "metadata": {},
   "outputs": [
    {
     "name": "stdout",
     "output_type": "stream",
     "text": [
      "accuracy= 74.78322921551617 %\n",
      "theta 0 0.15360427234983573\n",
      "theta 1 0.894807589602914\n"
     ]
    }
   ],
   "source": [
    "theta0_a,theta1_a,epochs_a,loss_list_a,theta0_list_a,theta1_list_a,y_pred_a=GD(x,y,20,0.03)"
   ]
  },
  {
   "cell_type": "code",
   "execution_count": 28,
   "id": "e435d007",
   "metadata": {},
   "outputs": [
    {
     "data": {
      "image/png": "[encoded data removed]",
      "text/plain": [
       "<Figure size 432x288 with 4 Axes>"
      ]
     },
     "metadata": {
      "needs_background": "light"
     },
     "output_type": "display_data"
    }
   ],
   "source": [
    "plot(x,y,epochs_a,theta0_list_a,theta1_list_a,loss_list_a)"
   ]
  },
  {
   "cell_type": "code",
   "execution_count": 29,
   "id": "f7a9a63b",
   "metadata": {},
   "outputs": [
    {
     "name": "stdout",
     "output_type": "stream",
     "text": [
      "theta1: [[0.69452919]]\n",
      "\n",
      "theta0: [1.43411077]\n"
     ]
    }
   ],
   "source": [
    "x_points1=x.reshape(-1,1)\n",
    "y_points1=y.reshape(-1,1)\n",
    "from sklearn.linear_model import LinearRegression\n",
    "model = LinearRegression()\n",
    "model.fit(x_points1, y_points1)\n",
    "print(\"theta1:\", model.coef_)\n",
    "print(\"\\ntheta0:\", model.intercept_)\n"
   ]
  },
  {
   "cell_type": "code",
   "execution_count": 30,
   "id": "47727129",
   "metadata": {},
   "outputs": [
    {
     "name": "stdout",
     "output_type": "stream",
     "text": [
      "accuracy= 73.3317676295001 %\n",
      "theta 0 0.1448259246186392\n",
      "theta 1 0.8726054645261807\n"
     ]
    }
   ],
   "source": [
    "theta0,theta1,epochs,loss_list,theta0_list,theta1_list,y_pred=GD(x,y,1000,0.001) #at 0.01"
   ]
  },
  {
   "cell_type": "code",
   "execution_count": null,
   "id": "254a7faf",
   "metadata": {},
   "outputs": [],
   "source": [
    "def plot(x_points,y_points,epochs,theta0_list,theta1_list,loss_list):\n",
    "    fig, ax = plt.subplots(2,2)\n",
    "    y_pred=theta0_list[-1]+theta1_list[-1]*x_points\n",
    "    ax[0,0].plot(x_points,y_points,'*')\n",
    "    ax[0,0].plot(x_points, y_pred)\n",
    "    ax[0,1].plot(epochs,loss_list)\n",
    "    ax[1,0].plot(theta0_list,loss_list)\n",
    "    ax[1,1].plot(theta1_list,loss_list)"
   ]
  },
  {
   "cell_type": "code",
   "execution_count": 31,
   "id": "89f3a753",
   "metadata": {},
   "outputs": [
    {
     "data": {
      "image/png": "[encoded data removed]",
      "text/plain": [
       "<Figure size 432x288 with 4 Axes>"
      ]
     },
     "metadata": {
      "needs_background": "light"
     },
     "output_type": "display_data"
    }
   ],
   "source": [
    "plot(x,y,epochs,theta0_list,theta1_list,loss_list)"
   ]
  },
  {
   "cell_type": "code",
   "execution_count": 32,
   "id": "eb77a387",
   "metadata": {},
   "outputs": [
    {
     "name": "stdout",
     "output_type": "stream",
     "text": [
      "accuracy= 74.76385054579725 %\n",
      "theta 0 0.1508905597228018\n",
      "theta 1 0.8949912009445132\n"
     ]
    }
   ],
   "source": [
    "theta0_a,theta1_a,epochs_a,loss_lista,theta0_list_a,theta1_list_a,y_pred_a=GD(x,y,20,0.02)"
   ]
  },
  {
   "cell_type": "code",
   "execution_count": 33,
   "id": "719b82cc",
   "metadata": {},
   "outputs": [
    {
     "data": {
      "image/png": "[encoded data removed]",
      "text/plain": [
       "<Figure size 432x288 with 4 Axes>"
      ]
     },
     "metadata": {
      "needs_background": "light"
     },
     "output_type": "display_data"
    }
   ],
   "source": [
    "plot(x,y,epochs_a,theta0_list_a,theta1_list_a,loss_lista)"
   ]
  },
  {
   "cell_type": "code",
   "execution_count": 36,
   "id": "0a434722",
   "metadata": {},
   "outputs": [
    {
     "name": "stdout",
     "output_type": "stream",
     "text": [
      "accuracy= 74.78322921551617 %\n",
      "theta 0 0.15360427234983573\n",
      "theta 1 0.894807589602914\n"
     ]
    }
   ],
   "source": [
    "theta0_b,theta1_b,epochs_b,loss_listb,theta0_list_b,theta1_list_b,y_pred_b=GD(x,y,20,0.03)"
   ]
  },
  {
   "cell_type": "code",
   "execution_count": 37,
   "id": "149645b0",
   "metadata": {},
   "outputs": [
    {
     "data": {
      "image/png": "[encoded data removed]",
      "text/plain": [
       "<Figure size 432x288 with 4 Axes>"
      ]
     },
     "metadata": {
      "needs_background": "light"
     },
     "output_type": "display_data"
    }
   ],
   "source": [
    "plot(x,y,epochs_b,theta0_list_b,theta1_list_b,loss_listb)"
   ]
  },
  {
   "cell_type": "code",
   "execution_count": 38,
   "id": "e9d9a203",
   "metadata": {},
   "outputs": [
    {
     "data": {
      "text/plain": [
       "Text(0.5, 1.0, 'var')"
      ]
     },
     "execution_count": 38,
     "metadata": {},
     "output_type": "execute_result"
    },
    {
     "data": {
      "text/plain": [
       "<Figure size 1440x576 with 0 Axes>"
      ]
     },
     "metadata": {},
     "output_type": "display_data"
    },
    {
     "data": {
      "image/png": "[encoded data removed]",
      "text/plain": [
       "<Figure size 432x288 with 1 Axes>"
      ]
     },
     "metadata": {
      "needs_background": "light"
     },
     "output_type": "display_data"
    }
   ],
   "source": [
    "plt_1 = plt.figure(figsize=(20, 8))\n",
    "fig, ax = plt.subplots()\n",
    "y_pred=theta0+theta1*x\n",
    "y_preda=theta0_a+theta1_a*x\n",
    "y_predb=theta0_b+theta1_b*x\n",
    "ax.plot(x,y,'*')\n",
    "ax.plot(x, y_preda,marker=\"o\")\n",
    "ax.plot(x, y_preda,marker=\"v\")\n",
    "ax.plot(x, y_predb)\n",
    "ax.set_xlabel(\"x points\")\n",
    "ax.set_ylabel(\"y pred\")\n",
    "ax.set_title(\"var\")"
   ]
  },
  {
   "cell_type": "code",
   "execution_count": 39,
   "id": "05953204",
   "metadata": {},
   "outputs": [],
   "source": [
    "def readcsv(filename):\n",
    "    data=np.genfromtxt(filename,delimiter=',')\n",
    "    x_points=data[:,:-1]\n",
    "    y_points=data[:,-1]\n",
    "    return x_points,y_points"
   ]
  },
  {
   "cell_type": "code",
   "execution_count": 40,
   "id": "3c430e05",
   "metadata": {},
   "outputs": [],
   "source": [
    "x,y=readcsv(\"MultipleLR.csv\")"
   ]
  },
  {
   "cell_type": "markdown",
   "id": "f06fc487",
   "metadata": {},
   "source": [
    "# Multivariate Gradient Descent"
   ]
  },
  {
   "cell_type": "code",
   "execution_count": 41,
   "id": "ec4a026b",
   "metadata": {},
   "outputs": [],
   "source": [
    "def Multivariate_GD(x_points,y_points,epoch,alpha):\n",
    "    loss_list=[]\n",
    "    epochs=[]\n",
    "    theta0_list=[]\n",
    "    theta1_list=[]\n",
    "    theta2_list=[]\n",
    "    theta3_list=[]\n",
    "    theta=np.array([0,0,0,0])\n",
    "    mat_ones=np.ones(y_points.shape) #(25,)\n",
    "    data=np.column_stack((mat_ones,x_points))\n",
    "  #  print(\"datashape\",data.shape)\n",
    "    m=x_points.shape[0]\n",
    "   # print(\"data shape\",m)\n",
    "    for i in range(epoch): \n",
    "          y_pred=np.dot(data,theta)\n",
    "    #      print(\"ypred\",y_pred.shape)\n",
    "          z=y_pred-y_points\n",
    "          grad=(1/m)*np.dot(data.T,z)\n",
    "          lossfun=(1/(2*m))*(np.sum((y_pred-y_points)**2))\n",
    "          loss_list.append(lossfun)\n",
    "          epochs.append(i)\n",
    "          theta=theta-alpha*grad\n",
    "          theta0_list.append(theta[0])\n",
    "          theta1_list.append(theta[1])\n",
    "          theta2_list.append(theta[2])\n",
    "          theta3_list.append(theta[3])\n",
    "          if i>0:\n",
    "             if (np.linalg.norm(grad)<0.001)or (np.abs(loss_list[-1]-loss_list[-2])<0.001):\n",
    "               break\n",
    "         # break\n",
    "    theta0=theta[0]\n",
    "    theta1=theta[1]\n",
    "    theta2=theta[2]\n",
    "    theta3=theta[3]\n",
    "    print(\"accuracy=\",r2_score(y_points,y_pred)*100,\"%\")\n",
    "    print(\"theta 0\",theta[0])\n",
    "    print(\"theta 1\",theta[1])\n",
    "    return theta,theta0,theta1,theta2,theta3,epochs,loss_list,theta0_list,theta1_list,theta2_list,theta3_list,y_pred"
   ]
  },
  {
   "cell_type": "code",
   "execution_count": 42,
   "id": "bf2c6317",
   "metadata": {},
   "outputs": [
    {
     "name": "stdout",
     "output_type": "stream",
     "text": [
      "accuracy= 98.79310084690472 %\n",
      "theta 0 0.005490364936994219\n",
      "theta 1 0.49556707890825\n"
     ]
    }
   ],
   "source": [
    "theta,theta0,theta1,theta2,theta3,epochs,loss_list,theta0_list,theta1_list,theta2_list,theta3_list,y_pred=Multivariate_GD(x,y,900,0.0001)"
   ]
  },
  {
   "cell_type": "code",
   "execution_count": 43,
   "id": "bbb210ce",
   "metadata": {},
   "outputs": [
    {
     "name": "stdout",
     "output_type": "stream",
     "text": [
      "accuracy= 98.73842121596867 %\n",
      "theta 0 0.006220263976725681\n",
      "theta 1 0.5190106779347964\n"
     ]
    }
   ],
   "source": [
    "theta_a,theta0_a,theta1_a,theta2_a,theta3_a,epochs_a,loss_lista,theta0_lista,theta1_lista,theta2_lista,theta3_lista,y_preda=Multivariate_GD(x,y,500,0.0001)"
   ]
  },
  {
   "cell_type": "code",
   "execution_count": 44,
   "id": "d473a965",
   "metadata": {},
   "outputs": [
    {
     "data": {
      "text/plain": [
       "[<matplotlib.lines.Line2D at 0x25898805088>]"
      ]
     },
     "execution_count": 44,
     "metadata": {},
     "output_type": "execute_result"
    },
    {
     "data": {
      "text/plain": [
       "<Figure size 1440x576 with 0 Axes>"
      ]
     },
     "metadata": {},
     "output_type": "display_data"
    },
    {
     "data": {
      "image/png": "[encoded data removed]",
      "text/plain": [
       "<Figure size 432x288 with 1 Axes>"
      ]
     },
     "metadata": {
      "needs_background": "light"
     },
     "output_type": "display_data"
    }
   ],
   "source": [
    "plt_1 = plt.figure(figsize=(20, 8))\n",
    "fig, ax = plt.subplots()\n",
    "ax.plot(epochs_a,loss_lista)\n"
   ]
  },
  {
   "cell_type": "code",
   "execution_count": 45,
   "id": "a6cf1663",
   "metadata": {},
   "outputs": [
    {
     "data": {
      "text/plain": [
       "[<matplotlib.lines.Line2D at 0x258ffbd0e48>]"
      ]
     },
     "execution_count": 45,
     "metadata": {},
     "output_type": "execute_result"
    },
    {
     "data": {
      "text/plain": [
       "<Figure size 1440x576 with 0 Axes>"
      ]
     },
     "metadata": {},
     "output_type": "display_data"
    },
    {
     "data": {
      "image/png": "[encoded data removed]",
      "text/plain": [
       "<Figure size 432x288 with 1 Axes>"
      ]
     },
     "metadata": {
      "needs_background": "light"
     },
     "output_type": "display_data"
    }
   ],
   "source": [
    "plt_1 = plt.figure(figsize=(20, 8))\n",
    "fig, ax = plt.subplots()\n",
    "ax.plot(epochs_a,theta0_lista)"
   ]
  },
  {
   "cell_type": "code",
   "execution_count": 46,
   "id": "d972152f",
   "metadata": {},
   "outputs": [
    {
     "data": {
      "text/plain": [
       "[<matplotlib.lines.Line2D at 0x258ffb2f488>]"
      ]
     },
     "execution_count": 46,
     "metadata": {},
     "output_type": "execute_result"
    },
    {
     "data": {
      "text/plain": [
       "<Figure size 1440x576 with 0 Axes>"
      ]
     },
     "metadata": {},
     "output_type": "display_data"
    },
    {
     "data": {
      "image/png": "[encoded data removed]",
      "text/plain": [
       "<Figure size 432x288 with 1 Axes>"
      ]
     },
     "metadata": {
      "needs_background": "light"
     },
     "output_type": "display_data"
    }
   ],
   "source": [
    "#theta1_lista\n",
    "plt_1 = plt.figure(figsize=(20, 8))\n",
    "fig, ax = plt.subplots()\n",
    "ax.plot(epochs_a,theta1_lista)"
   ]
  },
  {
   "cell_type": "code",
   "execution_count": 47,
   "id": "14edd10c",
   "metadata": {},
   "outputs": [
    {
     "data": {
      "text/plain": [
       "[<matplotlib.lines.Line2D at 0x258ffbd5908>]"
      ]
     },
     "execution_count": 47,
     "metadata": {},
     "output_type": "execute_result"
    },
    {
     "data": {
      "text/plain": [
       "<Figure size 1440x576 with 0 Axes>"
      ]
     },
     "metadata": {},
     "output_type": "display_data"
    },
    {
     "data": {
      "image/png": "[encoded data removed]",
      "text/plain": [
       "<Figure size 432x288 with 1 Axes>"
      ]
     },
     "metadata": {
      "needs_background": "light"
     },
     "output_type": "display_data"
    }
   ],
   "source": [
    "plt_1 = plt.figure(figsize=(20, 8))\n",
    "fig, ax = plt.subplots()\n",
    "ax.plot(epochs_a,theta2_lista)"
   ]
  },
  {
   "cell_type": "code",
   "execution_count": 48,
   "id": "4c3679d2",
   "metadata": {},
   "outputs": [
    {
     "data": {
      "text/plain": [
       "[<matplotlib.lines.Line2D at 0x258ffa51508>]"
      ]
     },
     "execution_count": 48,
     "metadata": {},
     "output_type": "execute_result"
    },
    {
     "data": {
      "text/plain": [
       "<Figure size 1440x576 with 0 Axes>"
      ]
     },
     "metadata": {},
     "output_type": "display_data"
    },
    {
     "data": {
      "image/png": "[encoded data removed]",
      "text/plain": [
       "<Figure size 432x288 with 1 Axes>"
      ]
     },
     "metadata": {
      "needs_background": "light"
     },
     "output_type": "display_data"
    }
   ],
   "source": [
    "plt_1 = plt.figure(figsize=(20, 8))\n",
    "fig, ax = plt.subplots()\n",
    "ax.plot(epochs_a,theta3_lista)"
   ]
  },
  {
   "cell_type": "code",
   "execution_count": 49,
   "id": "1ba8dafe",
   "metadata": {},
   "outputs": [
    {
     "name": "stdout",
     "output_type": "stream",
     "text": [
      "accuracy= 96.67519053851329 %\n",
      "theta 0 0.008160363559729112\n",
      "theta 1 0.6581097382309128\n"
     ]
    }
   ],
   "source": [
    "theta_b,theta0_b,theta1_b,theta2_b,theta3_b,epochs_b,loss_listb,theta0_listb,theta1_listb,theta2_listb,theta3_listb,y_predb=Multivariate_GD(x,y,20,0.00001)"
   ]
  },
  {
   "cell_type": "code",
   "execution_count": 50,
   "id": "2ae00425",
   "metadata": {},
   "outputs": [
    {
     "data": {
      "text/plain": [
       "[<matplotlib.lines.Line2D at 0x258ffa7e308>]"
      ]
     },
     "execution_count": 50,
     "metadata": {},
     "output_type": "execute_result"
    },
    {
     "data": {
      "text/plain": [
       "<Figure size 1440x576 with 0 Axes>"
      ]
     },
     "metadata": {},
     "output_type": "display_data"
    },
    {
     "data": {
      "image/png": "[encoded data removed]",
      "text/plain": [
       "<Figure size 432x288 with 1 Axes>"
      ]
     },
     "metadata": {
      "needs_background": "light"
     },
     "output_type": "display_data"
    }
   ],
   "source": [
    "plt_1 = plt.figure(figsize=(20, 8))\n",
    "fig, ax = plt.subplots()\n",
    "ax.plot(epochs_b,loss_listb)\n"
   ]
  },
  {
   "cell_type": "code",
   "execution_count": 51,
   "id": "73d8ce37",
   "metadata": {},
   "outputs": [
    {
     "data": {
      "text/plain": [
       "[<matplotlib.lines.Line2D at 0x258ff5ccd08>]"
      ]
     },
     "execution_count": 51,
     "metadata": {},
     "output_type": "execute_result"
    },
    {
     "data": {
      "text/plain": [
       "<Figure size 1440x576 with 0 Axes>"
      ]
     },
     "metadata": {},
     "output_type": "display_data"
    },
    {
     "data": {
      "image/png": "[encoded data removed]",
      "text/plain": [
       "<Figure size 432x288 with 1 Axes>"
      ]
     },
     "metadata": {
      "needs_background": "light"
     },
     "output_type": "display_data"
    }
   ],
   "source": [
    "plt_1 = plt.figure(figsize=(20, 8))\n",
    "fig, ax = plt.subplots()\n",
    "ax.plot(epochs_b,theta0_listb)"
   ]
  },
  {
   "cell_type": "code",
   "execution_count": 52,
   "id": "a3d18cb5",
   "metadata": {},
   "outputs": [
    {
     "data": {
      "text/plain": [
       "[<matplotlib.lines.Line2D at 0x258ffb2e148>]"
      ]
     },
     "execution_count": 52,
     "metadata": {},
     "output_type": "execute_result"
    },
    {
     "data": {
      "text/plain": [
       "<Figure size 1440x576 with 0 Axes>"
      ]
     },
     "metadata": {},
     "output_type": "display_data"
    },
    {
     "data": {
      "image/png": "[encoded data removed]",
      "text/plain": [
       "<Figure size 432x288 with 1 Axes>"
      ]
     },
     "metadata": {
      "needs_background": "light"
     },
     "output_type": "display_data"
    }
   ],
   "source": [
    "plt_1 = plt.figure(figsize=(20, 8))\n",
    "fig, ax = plt.subplots()\n",
    "ax.plot(epochs_b,theta1_listb)"
   ]
  },
  {
   "cell_type": "code",
   "execution_count": null,
   "id": "08aee8d9",
   "metadata": {},
   "outputs": [],
   "source": []
  },
  {
   "cell_type": "code",
   "execution_count": null,
   "id": "99b24781",
   "metadata": {},
   "outputs": [],
   "source": []
  }
 ],
 "metadata": {
  "kernelspec": {
   "display_name": "Python 3",
   "language": "python",
   "name": "python3"
  },
  "language_info": {
   "codemirror_mode": {
    "name": "ipython",
    "version": 3
   },
   "file_extension": ".py",
   "mimetype": "text/x-python",
   "name": "python",
   "nbconvert_exporter": "python",
   "pygments_lexer": "ipython3",
   "version": "3.7.9"
  },
  "toc": {
   "base_numbering": 1,
   "nav_menu": {},
   "number_sections": true,
   "sideBar": true,
   "skip_h1_title": false,
   "title_cell": "Table of Contents",
   "title_sidebar": "Contents",
   "toc_cell": false,
   "toc_position": {},
   "toc_section_display": true,
   "toc_window_display": true
  }
 },
 "nbformat": 4,
 "nbformat_minor": 5
}
