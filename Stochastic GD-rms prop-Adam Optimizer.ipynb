{
 "cells": [
  {
   "cell_type": "code",
   "execution_count": 5,
   "id": "b0e61e8a",
   "metadata": {},
   "outputs": [],
   "source": [
    "import numpy as np\n",
    "import matplotlib.pyplot as plt\n",
    "from sklearn.metrics import r2_score\n",
    "%matplotlib inline"
   ]
  },
  {
   "cell_type": "code",
   "execution_count": 6,
   "id": "49854ced",
   "metadata": {},
   "outputs": [],
   "source": [
    "def generatedata():\n",
    "    X=np.linspace(0,20)\n",
    "    y=-2*X+1\n",
    "    return X,y"
   ]
  },
  {
   "cell_type": "code",
   "execution_count": 7,
   "id": "4e311ddf",
   "metadata": {},
   "outputs": [],
   "source": [
    "x_points,y_points=generatedata()"
   ]
  },
  {
   "cell_type": "code",
   "execution_count": 8,
   "id": "525a5cb1",
   "metadata": {},
   "outputs": [
    {
     "data": {
      "text/plain": [
       "(50,)"
      ]
     },
     "execution_count": 8,
     "metadata": {},
     "output_type": "execute_result"
    }
   ],
   "source": [
    "x_points.shape"
   ]
  },
  {
   "cell_type": "code",
   "execution_count": null,
   "id": "d2817167",
   "metadata": {},
   "outputs": [],
   "source": []
  },
  {
   "cell_type": "code",
   "execution_count": 13,
   "id": "bb599fdb",
   "metadata": {},
   "outputs": [],
   "source": [
    "def SGD(x_points,y_points,alpha,epochs):\n",
    "    loss_list=[]\n",
    "    theta0=0\n",
    "    theta1=0\n",
    "    iteration=0\n",
    "    iteration_list=[]\n",
    "    theta0_list=[]\n",
    "    theta1_list=[]\n",
    "    for i in range(epochs):\n",
    "        for i in range(x_points.shape[0]):\n",
    "            y_pred=theta0+theta1*x_points[i]\n",
    "            lossfun=(1/2)*((y_pred-y_points[i])**2)\n",
    "            loss_list.append(lossfun)\n",
    "            theta0=theta0-alpha*(y_pred-y_points[i])\n",
    "            theta0_list.append(theta0)\n",
    "            theta1=theta1-alpha*((y_pred-y_points)*x_points[i])\n",
    "            theta1_list.append(theta1)\n",
    "            iteration_list.append(iteration)\n",
    "            iteration+=1\n",
    "    y_pred=theta0+theta1*x_points        \n",
    "    hypothesis=theta0+theta1*x_points\n",
    "    print(\"accuracy=\",r2_score(y_points,y_pred)*100,\"%\")\n",
    "    return theta0,theta1,theta0_list,theta1_list,loss_list,iteration_list"
   ]
  },
  {
   "cell_type": "code",
   "execution_count": 37,
   "id": "a7cfcd98",
   "metadata": {},
   "outputs": [
    {
     "name": "stdout",
     "output_type": "stream",
     "text": [
      "accuracy= 77.74779582042082 %\n"
     ]
    }
   ],
   "source": [
    "theta0,theta1,theta0_list,theta1_list,loss_list,iteration_list=SGD(x_points,y_points,0.00015,10)"
   ]
  },
  {
   "cell_type": "code",
   "execution_count": 15,
   "id": "648d7fa8",
   "metadata": {},
   "outputs": [
    {
     "name": "stdout",
     "output_type": "stream",
     "text": [
      "accuracy= 75.1993047449824 %\n"
     ]
    }
   ],
   "source": [
    "theta0a,theta1a,theta0_lista,theta1_lista,loss_lista,iteration_lista=SGD(x_points,y_points,0.0001,20)"
   ]
  },
  {
   "cell_type": "code",
   "execution_count": 17,
   "id": "431f2231",
   "metadata": {},
   "outputs": [
    {
     "name": "stdout",
     "output_type": "stream",
     "text": [
      "accuracy= 80.52700203488232 %\n"
     ]
    }
   ],
   "source": [
    "theta0b,theta1b,theta0_listb,theta1_listb,loss_listb,iteration_listb=SGD(x_points,y_points,0.0002,30)"
   ]
  },
  {
   "cell_type": "code",
   "execution_count": 36,
   "id": "10557c06",
   "metadata": {},
   "outputs": [
    {
     "name": "stdout",
     "output_type": "stream",
     "text": [
      "accuracy= 78.39251902179615 %\n"
     ]
    }
   ],
   "source": [
    "theta0c,theta1c,theta0_listc,theta1_listc,loss_listc,iteration_listc=SGD(x_points,y_points,0.000199,50)"
   ]
  },
  {
   "cell_type": "code",
   "execution_count": 39,
   "id": "eff9ce76",
   "metadata": {},
   "outputs": [
    {
     "name": "stdout",
     "output_type": "stream",
     "text": [
      "accuracy= 73.81749407600692 %\n"
     ]
    }
   ],
   "source": [
    "theta0d,theta1d,theta0_listd,theta1_listd,loss_listd,iteration_listd=SGD(x_points,y_points,0.0002,70)"
   ]
  },
  {
   "cell_type": "code",
   "execution_count": 42,
   "id": "9692ec95",
   "metadata": {},
   "outputs": [
    {
     "data": {
      "image/png": "[encoded data removed]",
      "text/plain": [
       "<Figure size 432x288 with 1 Axes>"
      ]
     },
     "metadata": {
      "needs_background": "light"
     },
     "output_type": "display_data"
    }
   ],
   "source": [
    "y_pred=theta0+theta1*x_points\n",
    "y_preda=theta0a+theta1a*x_points\n",
    "y_predb=theta0b+theta1b*x_points\n",
    "y_predc=theta0c+theta1c*x_points\n",
    "y_predd=theta0d+theta1d*x_points\n",
    "fig, ax = plt.subplots()\n",
    "ax.scatter(x_points,y_points)\n",
    "ax.plot(x_points, y_pred,marker=\"o\",color=\"y\")\n",
    "ax.plot(x_points,y_pred, label = \"0.00015-10\")\n",
    "ax.plot(x_points,y_preda, label = \"0.0001-20\")\n",
    "ax.plot(x_points, y_predb, label = \"0.0002-30\")\n",
    "ax.plot(x_points, y_predc, label = \"0.000199-50\")\n",
    "\n",
    "plt.legend()\n",
    "plt.show()"
   ]
  },
  {
   "cell_type": "code",
   "execution_count": 34,
   "id": "805fe284",
   "metadata": {},
   "outputs": [
    {
     "data": {
      "text/plain": [
       "7.142857142857143"
      ]
     },
     "execution_count": 34,
     "metadata": {},
     "output_type": "execute_result"
    }
   ],
   "source": [
    "50/7"
   ]
  },
  {
   "cell_type": "code",
   "execution_count": 43,
   "id": "f97cfda1",
   "metadata": {},
   "outputs": [],
   "source": [
    "from sklearn.metrics import r2_score\n",
    "\n",
    "def minibatchGD(x_points,y_points,alpha,batch_size,epoch):\n",
    "    loss_list=[]\n",
    "    epochs=[]\n",
    "    theta0_list=[]\n",
    "    theta1_list=[]\n",
    "    #theta0=0\n",
    "    #theta1=0\n",
    "    theta=np.array([0,0])\n",
    "    m=x_points.shape[0]\n",
    "    mat_ones=np.ones(x_points.shape) #(13,)\n",
    "    #print(\"mat_ones\",mat_ones.shape)\n",
    "    data=np.stack((mat_ones,x_points),axis=1) #(50,2)\n",
    "   # print(\"data\",data)\n",
    "    y_predkbera=[]\n",
    "    y_predlist=[]\n",
    "    max_iter=int(m/batch_size)\n",
    "    iteration=0\n",
    "    iteration_list=[]\n",
    "    for i in range(epoch): \n",
    "          j=0\n",
    "          p=batch_size\n",
    "          for i in range(max_iter):\n",
    "            X=data[j:p,:]\n",
    "            y_pred=np.dot(X,theta)\n",
    "            y_predlist.append(y_pred)\n",
    "            y_pointsnew=y_points[j:p]\n",
    "            z=y_pred-y_pointsnew\n",
    "            grad=(1/batch_size)*np.dot(X.T,z)\n",
    "            lossfun=(1/(2*batch_size))*(np.sum((y_pred-y_pointsnew)**2))\n",
    "            epochs.append(i)\n",
    "            theta=theta-alpha*grad\n",
    "            theta0_list.append(theta[0])\n",
    "            theta1_list.append(theta[1])\n",
    "            f=j\n",
    "            j=p\n",
    "            p=f+batch_size\n",
    "            loss_list.append(lossfun)\n",
    "            iteration_list.append(iteration)\n",
    "            iteration+=1\n",
    "          if (np.linalg.norm(grad)<0.001):\n",
    "                break\n",
    "    theta0=theta[0]\n",
    "    theta1=theta[1]\n",
    "    y_pred=np.dot(data,theta)\n",
    "    print(\"accuracy=\",r2_score(y_points,y_pred)*100,\"%\")\n",
    "    print(\"theta 0\",theta[0])\n",
    "    print(\"theta 1\",theta[1])\n",
    "    return theta0,theta1,epochs,loss_list,theta0_list,theta1_list,iteration_list\n",
    "   "
   ]
  },
  {
   "cell_type": "code",
   "execution_count": 44,
   "id": "d0b2ff40",
   "metadata": {},
   "outputs": [
    {
     "name": "stdout",
     "output_type": "stream",
     "text": [
      "accuracy= 99.68132971035573 %\n",
      "theta 0 -0.15256524403392493\n",
      "theta 1 -1.8871736316559735\n"
     ]
    }
   ],
   "source": [
    "theta0,theta1,epochs,loss_list,theta0_list,theta1_list,iteration_list=minibatchGD(x_points,y_points,0.01,10,10)"
   ]
  },
  {
   "cell_type": "code",
   "execution_count": 45,
   "id": "8f861af0",
   "metadata": {},
   "outputs": [
    {
     "data": {
      "text/plain": [
       "Text(0.5, 1.0, 'var')"
      ]
     },
     "execution_count": 45,
     "metadata": {},
     "output_type": "execute_result"
    },
    {
     "data": {
      "image/png": "[encoded data removed]",
      "text/plain": [
       "<Figure size 432x288 with 1 Axes>"
      ]
     },
     "metadata": {
      "needs_background": "light"
     },
     "output_type": "display_data"
    }
   ],
   "source": [
    "fig, ax = plt.subplots()\n",
    "y_pred=theta0+theta1*x_points\n",
    "#y_preda=theta0_a+theta1_a*x\n",
    "ax.scatter(x_points,y_points)\n",
    "ax.plot(x_points, y_pred,marker=\"o\",color=\"y\")\n",
    "#ax.plot(x, y_preda,marker=\"v\")\n",
    "ax.set_xlabel(\"x points\")\n",
    "ax.set_ylabel(\"y pred\")\n",
    "ax.set_title(\"var\")"
   ]
  },
  {
   "cell_type": "code",
   "execution_count": 46,
   "id": "a7675981",
   "metadata": {},
   "outputs": [],
   "source": [
    "def plot(x_points,y_points,theta0,theta1,epochs,loss_list,theta0_list,theta1_list,iteration_list):\n",
    "    fig, ax = plt.subplots(2,2)\n",
    "    y_pred=theta0+theta1*x_points\n",
    "    ax[0,0].plot(x_points,y_points,'*')\n",
    "    ax[0,0].plot(x_points, y_pred,c='y')\n",
    "    ax[0,1].plot(iteration_list,loss_list)\n",
    "    ax[0,1].set_ylabel(\"loss\")\n",
    "    ax[0,1].set_xlabel(\"iterations\")\n",
    "    ax[1,0].plot(theta0_list,loss_list)\n",
    "    ax[1,1].plot(theta1_list,loss_list)"
   ]
  },
  {
   "cell_type": "code",
   "execution_count": 47,
   "id": "9099078c",
   "metadata": {},
   "outputs": [
    {
     "data": {
      "image/png": "[encoded data removed]",
      "text/plain": [
       "<Figure size 432x288 with 4 Axes>"
      ]
     },
     "metadata": {
      "needs_background": "light"
     },
     "output_type": "display_data"
    }
   ],
   "source": [
    "plot(x_points,y_points,theta0,theta1,epochs,loss_list,theta0_list,theta1_list,iteration_list)"
   ]
  },
  {
   "cell_type": "code",
   "execution_count": null,
   "id": "4641c0ba",
   "metadata": {},
   "outputs": [],
   "source": []
  }
 ],
 "metadata": {
  "kernelspec": {
   "display_name": "Python 3",
   "language": "python",
   "name": "python3"
  },
  "language_info": {
   "codemirror_mode": {
    "name": "ipython",
    "version": 3
   },
   "file_extension": ".py",
   "mimetype": "text/x-python",
   "name": "python",
   "nbconvert_exporter": "python",
   "pygments_lexer": "ipython3",
   "version": "3.7.9"
  },
  "toc": {
   "base_numbering": 1,
   "nav_menu": {},
   "number_sections": true,
   "sideBar": true,
   "skip_h1_title": false,
   "title_cell": "Table of Contents",
   "title_sidebar": "Contents",
   "toc_cell": false,
   "toc_position": {},
   "toc_section_display": true,
   "toc_window_display": false
  }
 },
 "nbformat": 4,
 "nbformat_minor": 5
}
