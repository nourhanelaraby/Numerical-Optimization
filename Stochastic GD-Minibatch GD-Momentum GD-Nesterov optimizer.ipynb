{
 "cells": [
  {
   "cell_type": "code",
   "execution_count": 1,
   "id": "def5ab83",
   "metadata": {},
   "outputs": [],
   "source": [
    "import numpy as np\n",
    "x_points = np.array([1,1,2,3,4,5,6,7,8,9,10,11]) \n",
    "y_points = np.array([1,2,3,1,4,5,6,4,7,10,15,9])"
   ]
  },
  {
   "cell_type": "code",
   "execution_count": 2,
   "id": "1f2f7a82",
   "metadata": {},
   "outputs": [
    {
     "data": {
      "image/png": "[encoded data removed]",
      "text/plain": [
       "<Figure size 432x288 with 1 Axes>"
      ]
     },
     "metadata": {
      "needs_background": "light"
     },
     "output_type": "display_data"
    }
   ],
   "source": [
    "import matplotlib.pyplot as plt\n",
    "plt.scatter(x_points, y_points, c =\"pink\", \n",
    "            linewidths = 2, \n",
    "            marker =\"s\", \n",
    "            edgecolor =\"green\", \n",
    "            s = 50)\n",
    "plt.show()"
   ]
  },
  {
   "cell_type": "markdown",
   "id": "9be0c8dc",
   "metadata": {},
   "source": [
    "# Stochastic Gradient Descent"
   ]
  },
  {
   "cell_type": "code",
   "execution_count": 3,
   "id": "7002fe18",
   "metadata": {},
   "outputs": [],
   "source": [
    "from sklearn.metrics import r2_score\n",
    "\n",
    "def SGD(x_points,y_points,alpha,epochs):\n",
    "    loss_list=[]\n",
    "    theta0=0\n",
    "    theta1=0\n",
    "    iteration=0\n",
    "    iteration_list=[]\n",
    "    theta0_list=[]\n",
    "    theta1_list=[]\n",
    "    for i in range(epochs):\n",
    "        for i in range(x_points.shape[0]):\n",
    "            y_pred=theta0+theta1*x_points[i]\n",
    "            lossfun=(1/2)*((y_pred-y_points[i])**2)\n",
    "            loss_list.append(lossfun)\n",
    "            theta0=theta0-alpha*(y_pred-y_points[i])\n",
    "            theta0_list.append(theta0)\n",
    "            theta1=theta1-alpha*((y_pred-y_points)*x_points[i])\n",
    "            theta1_list.append(theta1)\n",
    "            iteration_list.append(iteration)\n",
    "            iteration+=1\n",
    "            \n",
    "    hypothesis=theta0+theta1*x_points\n",
    "    print(\"accuracy=\",r2_score(y_points,hypothesis)*100,\"%\")\n",
    "    return theta0,theta1,theta0_list,theta1_list,loss_list,iteration_list"
   ]
  },
  {
   "cell_type": "code",
   "execution_count": 4,
   "id": "96588dcf",
   "metadata": {},
   "outputs": [
    {
     "name": "stdout",
     "output_type": "stream",
     "text": [
      "accuracy= 73.15205603084249 %\n"
     ]
    }
   ],
   "source": [
    "theta0,theta1,theta0_list,theta1_list,loss_list,iteration_list=SGD(x_points,y_points,0.01,10)"
   ]
  },
  {
   "cell_type": "code",
   "execution_count": 5,
   "id": "f3b9c45a",
   "metadata": {},
   "outputs": [
    {
     "name": "stdout",
     "output_type": "stream",
     "text": [
      "accuracy= 80.11299503236671 %\n"
     ]
    }
   ],
   "source": [
    "theta0,theta1,theta0_list,theta1_list,loss_list,iteration_list=SGD(x_points,y_points,0.001,30)"
   ]
  },
  {
   "cell_type": "code",
   "execution_count": 6,
   "id": "ae63883d",
   "metadata": {},
   "outputs": [
    {
     "data": {
      "text/plain": [
       "Text(0.5, 1.0, 'y-pred vs featues')"
      ]
     },
     "execution_count": 6,
     "metadata": {},
     "output_type": "execute_result"
    },
    {
     "data": {
      "image/png": "[encoded data removed]",
      "text/plain": [
       "<Figure size 432x288 with 1 Axes>"
      ]
     },
     "metadata": {
      "needs_background": "light"
     },
     "output_type": "display_data"
    }
   ],
   "source": [
    "fig, ax = plt.subplots()\n",
    "y_pred=theta0+theta1*x_points\n",
    "ax.scatter(x_points,y_points)\n",
    "ax.plot(x_points, y_pred,marker=\"o\",color=\"y\")\n",
    "ax.set_xlabel(\"x points\")\n",
    "ax.set_ylabel(\"y pred\")\n",
    "ax.set_title(\"y-pred vs featues\")"
   ]
  },
  {
   "cell_type": "markdown",
   "id": "fe057500",
   "metadata": {},
   "source": [
    "# minibatch Gradient Descent"
   ]
  },
  {
   "cell_type": "code",
   "execution_count": 7,
   "id": "8006cb7d",
   "metadata": {},
   "outputs": [],
   "source": [
    "def minibatchGD(x_points,y_points,alpha,batch_size,epoch):\n",
    "    loss_list=[]\n",
    "    epochs=[]\n",
    "    theta0_list=[]\n",
    "    theta1_list=[]\n",
    "    #theta0=0\n",
    "    #theta1=0\n",
    "    theta=np.array([0,0])\n",
    "    m=x_points.shape[0]\n",
    "    mat_ones=np.ones(x_points.shape) #(13,)\n",
    "    #print(\"mat_ones\",mat_ones.shape)\n",
    "    data=np.stack((mat_ones,x_points),axis=1) #(50,2)\n",
    "   # print(\"data\",data)\n",
    "    y_predkbera=[]\n",
    "    y_predlist=[]\n",
    "    max_iter=int(m/batch_size)\n",
    "    iteration=0\n",
    "    iteration_list=[]\n",
    "    for i in range(epoch): \n",
    "          j=0\n",
    "          p=batch_size\n",
    "          for i in range(max_iter):\n",
    "            X=data[j:p,:]\n",
    "            y_pred=np.dot(X,theta)\n",
    "            y_predlist.append(y_pred)\n",
    "            y_pointsnew=y_points[j:p]\n",
    "            z=y_pred-y_pointsnew\n",
    "            grad=(1/batch_size)*np.dot(X.T,z)\n",
    "            lossfun=(1/(2*batch_size))*(np.sum((y_pred-y_pointsnew)**2))\n",
    "            epochs.append(i)\n",
    "            theta=theta-alpha*grad\n",
    "            theta0_list.append(theta[0])\n",
    "            theta1_list.append(theta[1])\n",
    "            f=j\n",
    "            j=p\n",
    "            p=f+batch_size\n",
    "            loss_list.append(lossfun)\n",
    "            iteration_list.append(iteration)\n",
    "            iteration+=1\n",
    "          if (np.linalg.norm(grad)<0.001):\n",
    "                break\n",
    "    theta0=theta[0]\n",
    "    theta1=theta[1]\n",
    "    hypothesis=theta0+theta1*x_points\n",
    "    print(\"accuracy=\",r2_score(y_points,hypothesis)*100,\"%\")\n",
    "    return theta0,theta1,epochs,loss_list,theta0_list,theta1_list,iteration_list\n",
    "   "
   ]
  },
  {
   "cell_type": "code",
   "execution_count": 8,
   "id": "e370e456",
   "metadata": {},
   "outputs": [
    {
     "name": "stdout",
     "output_type": "stream",
     "text": [
      "accuracy= 71.49758585403767 %\n"
     ]
    }
   ],
   "source": [
    "theta0,theta1,epochs,loss_list,theta0_list,theta1_list,iteration_list=minibatchGD(x_points,y_points,0.01,10,10)"
   ]
  },
  {
   "cell_type": "code",
   "execution_count": 9,
   "id": "ef819b51",
   "metadata": {},
   "outputs": [
    {
     "data": {
      "text/plain": [
       "Text(0.5, 1.0, 'y-pred vs featues')"
      ]
     },
     "execution_count": 9,
     "metadata": {},
     "output_type": "execute_result"
    },
    {
     "data": {
      "image/png": "[encoded data removed]",
      "text/plain": [
       "<Figure size 432x288 with 1 Axes>"
      ]
     },
     "metadata": {
      "needs_background": "light"
     },
     "output_type": "display_data"
    }
   ],
   "source": [
    "fig, ax = plt.subplots()\n",
    "y_pred=theta0+theta1*x_points\n",
    "ax.scatter(x_points,y_points)\n",
    "ax.plot(x_points, y_pred,marker=\"o\",color=\"y\")\n",
    "ax.set_xlabel(\"x points\")\n",
    "ax.set_ylabel(\"y pred\")\n",
    "ax.set_title(\"y-pred vs featues\")"
   ]
  },
  {
   "cell_type": "markdown",
   "id": "a1be525e",
   "metadata": {},
   "source": [
    "# Momentum Gradient Descent"
   ]
  },
  {
   "cell_type": "code",
   "execution_count": 10,
   "id": "6566e942",
   "metadata": {},
   "outputs": [],
   "source": [
    "def momentumGD(x_points,y_points,epoch,alpha,gamma):\n",
    "    loss_list=[]\n",
    "    epochs=[]\n",
    "    theta0_list=[]\n",
    "    theta1_list=[]\n",
    "    theta0=0\n",
    "    theta1=0\n",
    "    theta=np.array([0,0])\n",
    "    m=x_points.shape[0]\n",
    "    mat_ones=np.ones(x_points.shape) #(13,)\n",
    "    data=np.stack((mat_ones,x_points),axis=1)\n",
    "  #  print(data)\n",
    "    vprev=0\n",
    "    for i in range(epoch): \n",
    "          y_pred=np.dot(data,theta)\n",
    "        #  print(y_pred)\n",
    "          z=y_pred-y_points\n",
    "         # print(\"z\",z)\n",
    "          grad=(1/m)*np.dot(data.T,z)\n",
    "          #print(\"grad\",grad)\n",
    "          vinit=gamma*vprev+alpha*grad\n",
    "          #print(\"vinit\",vinit)\n",
    "          lossfun=(1/(2*m))*(np.sum((y_pred-y_points)**2))\n",
    "          loss_list.append(lossfun)\n",
    "          epochs.append(i)\n",
    "          theta=theta-vinit\n",
    "          theta0_list.append(theta[0])\n",
    "          theta1_list.append(theta[1])\n",
    "          vprev=vinit\n",
    "         # print(\"vprev\",vprev)\n",
    "          if (np.linalg.norm(grad)<0.001):\n",
    "                break\n",
    "         # break\n",
    "    theta0=theta[0]\n",
    "    theta1=theta[1]\n",
    "    print(\"accuracy=\",r2_score(y_points,y_pred)*100,\"%\")\n",
    "    print(\"theta 0\",theta[0])\n",
    "    print(\"theta 1\",theta[1])\n",
    "    return theta0,theta1,epochs,loss_list,theta0_list,theta1_list"
   ]
  },
  {
   "cell_type": "code",
   "execution_count": 11,
   "id": "0d6b90ff",
   "metadata": {},
   "outputs": [
    {
     "name": "stdout",
     "output_type": "stream",
     "text": [
      "accuracy= 75.40886627057479 %\n",
      "theta 0 -0.06624100891469606\n",
      "theta 1 1.1213784645761362\n",
      "------------------------------------\n",
      "accuracy= 75.58319260659975 %\n",
      "theta 0 0.10655530925730189\n",
      "theta 1 0.9955229505428881\n",
      "------------------------------------\n",
      "accuracy= 66.8219267579183 %\n",
      "theta 0 0.06142892404379121\n",
      "theta 1 1.3508921675004337\n",
      "------------------------------------\n",
      "accuracy= -54.1545588235292 %\n",
      "theta 0 0.11402864430722706\n",
      "theta 1 1.3910174838746319\n",
      "------------------------------------\n",
      "accuracy= 75.70302282797066 %\n",
      "theta 0 -0.06878175753896484\n",
      "theta 1 0.9171940183272749\n",
      "------------------------------------\n",
      "accuracy= 74.43562223965013 %\n",
      "theta 0 0.10398496709395931\n",
      "theta 1 1.0489138983500848\n"
     ]
    }
   ],
   "source": [
    "theta0,theta1,epochs,loss_list,theta0_list,theta1_list=momentumGD(x_points,y_points,40,0.01,0.9)\n",
    "print(\"------------------------------------\")\n",
    "theta0a,theta1a,epochsa,loss_lista,theta0_lista,theta1_lista=momentumGD(x_points,y_points,300,0.0005,0.5)\n",
    "print(\"------------------------------------\")\n",
    "theta0b,theta1b,epochsb,loss_listb,theta0_listb,theta1_listb=momentumGD(x_points,y_points,20,0.012,0.9)\n",
    "print(\"------------------------------------\")\n",
    "theta0c,theta1c,epochsc,loss_listc,theta0_listc,theta1_listc=momentumGD(x_points,y_points,10,0.02,0.9)\n",
    "print(\"------------------------------------\")\n",
    "theta0d,theta1d,epochsd,loss_listd,theta0_listd,theta1_listd=momentumGD(x_points,y_points,35,0.01,0.9)\n",
    "print(\"------------------------------------\")\n",
    "theta0d,theta1d,epochsd,loss_listd,theta0_listd,theta1_listd=momentumGD(x_points,y_points,50,0.001,0.9)"
   ]
  },
  {
   "cell_type": "code",
   "execution_count": 12,
   "id": "1ac49995",
   "metadata": {},
   "outputs": [
    {
     "data": {
      "image/png": "[encoded data removed]",
      "text/plain": [
       "<Figure size 432x288 with 1 Axes>"
      ]
     },
     "metadata": {
      "needs_background": "light"
     },
     "output_type": "display_data"
    }
   ],
   "source": [
    "y_pred=theta0+theta1*x_points\n",
    "y_preda=theta0a+theta1a*x_points\n",
    "y_predb=theta0b+theta1b*x_points\n",
    "y_predc=theta0c+theta1c*x_points\n",
    "y_predd=theta0d+theta1d*x_points\n",
    "plt.plot(x_points,y_pred, label = \"line 1\")\n",
    "plt.plot(x_points,y_preda, label = \"line 2\")\n",
    "plt.plot(x_points, y_predb, label = \"line 3\")\n",
    "#plt.plot(X, y_predc, label = \"0.02-10\")\n",
    "plt.scatter(x_points,y_points)\n",
    "plt.legend()\n",
    "plt.grid()\n",
    "plt.show()"
   ]
  },
  {
   "cell_type": "markdown",
   "id": "de7d5acd",
   "metadata": {},
   "source": [
    "# Nesterov optimizer"
   ]
  },
  {
   "cell_type": "code",
   "execution_count": 14,
   "id": "670e3fbe",
   "metadata": {},
   "outputs": [],
   "source": [
    "def NAGGD(x_points,y_points,epoch,alpha,gamma):\n",
    "    loss_list=[]\n",
    "    epochs=[]\n",
    "    theta0_list=[]\n",
    "    theta1_list=[]\n",
    "    theta0=0\n",
    "    theta1=0\n",
    "    theta=np.array([0,0])\n",
    "    m=x_points.shape[0]\n",
    "    mat_ones=np.ones(x_points.shape) #(13,)\n",
    "    data=np.stack((mat_ones,x_points),axis=1)\n",
    "    vprev=0\n",
    "    for i in range(epoch): \n",
    "          thetatemp=theta-gamma*vprev\n",
    "          y_predtemp=np.dot(data,thetatemp)\n",
    "          z=y_predtemp-y_points\n",
    "          gradtemp=(1/m)*np.dot(data.T,z)\n",
    "          theta=thetatemp-alpha*gradtemp\n",
    "          vinit=gamma*vprev+alpha*gradtemp\n",
    "          y_pred=np.dot(data,theta)\n",
    "          lossfun=(1/(2*m))*(np.sum((y_pred-y_points)**2))\n",
    "          loss_list.append(lossfun)\n",
    "          epochs.append(i)\n",
    "          theta0_list.append(theta[0])\n",
    "          theta1_list.append(theta[1])\n",
    "          vprev=vinit\n",
    "          if (np.linalg.norm(gradtemp)<0.001):\n",
    "            break\n",
    "    theta0=theta[0]\n",
    "    theta1=theta[1]\n",
    "    print(\"accuracy=\",r2_score(y_points,y_pred)*100,\"%\")\n",
    "    print(\"theta 0\",theta[0])\n",
    "    print(\"theta 1\",theta[1])\n",
    "    return theta0,theta1,epochs,loss_list,theta0_list,theta1_list"
   ]
  },
  {
   "cell_type": "code",
   "execution_count": 15,
   "id": "03c11252",
   "metadata": {},
   "outputs": [
    {
     "name": "stdout",
     "output_type": "stream",
     "text": [
      "accuracy= 75.65892706827997 %\n",
      "theta 0 0.024072631219526297\n",
      "theta 1 1.0064909357892395\n",
      "------------------------------------\n",
      "accuracy= 75.74675980096362 %\n",
      "theta 0 -0.16457638988376588\n",
      "theta 1 1.0315738325622983\n",
      "------------------------------------\n",
      "accuracy= 75.74858727321723 %\n",
      "theta 0 -0.17890481721103174\n",
      "theta 1 1.0334789500977066\n",
      "------------------------------------\n",
      "accuracy= 75.74945260509563 %\n",
      "theta 0 -0.18883515153087677\n",
      "theta 1 1.0347992941242574\n",
      "------------------------------------\n",
      "accuracy= 75.75017719039478 %\n",
      "theta 0 -0.20626215442755874\n",
      "theta 1 1.0371164003157203\n"
     ]
    }
   ],
   "source": [
    "theta0,theta1,epochs,loss_list,theta0_list,theta1_list=NAGGD(x_points,y_points,300,0.0005,0.9)\n",
    "print(\"------------------------------------\")\n",
    "theta0,theta1,epochs,loss_list,theta0_list,theta1_list=NAGGD(x_points,y_points,70,0.01,0.9)\n",
    "print(\"------------------------------------\")\n",
    "theta0,theta1,epochs,loss_list,theta0_list,theta1_list=NAGGD(x_points,y_points,80,0.01,0.9)\n",
    "print(\"------------------------------------\")\n",
    "theta0,theta1,epochs,loss_list,theta0_list,theta1_list=NAGGD(x_points,y_points,90,0.01,0.9)\n",
    "print(\"------------------------------------\")\n",
    "theta0,theta1,epochs,loss_list,theta0_list,theta1_list=NAGGD(x_points,y_points,170,0.01,0.9)"
   ]
  },
  {
   "cell_type": "code",
   "execution_count": 16,
   "id": "5275f493",
   "metadata": {},
   "outputs": [
    {
     "data": {
      "image/png": "[encoded data removed]",
      "text/plain": [
       "<Figure size 432x288 with 1 Axes>"
      ]
     },
     "metadata": {
      "needs_background": "light"
     },
     "output_type": "display_data"
    }
   ],
   "source": [
    "y_pred=theta0+theta1*x_points\n",
    "y_preda=theta0a+theta1a*x_points\n",
    "y_predb=theta0b+theta1b*x_points\n",
    "y_predc=theta0c+theta1c*x_points\n",
    "y_predd=theta0d+theta1d*x_points\n",
    "plt.plot(x_points,y_pred, label = \"line1\")\n",
    "plt.plot(x_points,y_preda, label = \"line2\")\n",
    "plt.plot(x_points, y_predb, label = \"line3\")\n",
    "plt.plot(x_points, y_predc, label = \"line4\")\n",
    "plt.scatter(x_points,y_points)\n",
    "plt.legend()\n",
    "plt.show()"
   ]
  },
  {
   "cell_type": "code",
   "execution_count": null,
   "id": "8a130edb",
   "metadata": {},
   "outputs": [],
   "source": []
  }
 ],
 "metadata": {
  "kernelspec": {
   "display_name": "Python 3",
   "language": "python",
   "name": "python3"
  },
  "language_info": {
   "codemirror_mode": {
    "name": "ipython",
    "version": 3
   },
   "file_extension": ".py",
   "mimetype": "text/x-python",
   "name": "python",
   "nbconvert_exporter": "python",
   "pygments_lexer": "ipython3",
   "version": "3.7.9"
  },
  "toc": {
   "base_numbering": 1,
   "nav_menu": {},
   "number_sections": true,
   "sideBar": true,
   "skip_h1_title": false,
   "title_cell": "Table of Contents",
   "title_sidebar": "Contents",
   "toc_cell": false,
   "toc_position": {},
   "toc_section_display": true,
   "toc_window_display": true
  }
 },
 "nbformat": 4,
 "nbformat_minor": 5
}
